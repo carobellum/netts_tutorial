{
 "cells": [
  {
   "attachments": {},
   "cell_type": "markdown",
   "metadata": {},
   "source": [
    "# How to create semantic speech networks"
   ]
  },
  {
   "attachments": {},
   "cell_type": "markdown",
   "metadata": {},
   "source": [
    "This notebook demos the process of creating semantic speech networks in an interactive notebook using netts.\n",
    "\n",
    "### Contents:  \n",
    "1. [Installing Netts](#1.-Installing-Netts)  \n",
    "2. [Constructing a semantic speech network](#2.-Constructing-a-semantic-speech-network)  \n",
    "   1. [Command Line Interface](#2.1-Command-Line-Interface)\n",
    "   2. [Python Interface](#2.2-Python-Interface)\n",
    "3. [Constructing several networks](#3.-Constructing-several-networks)\n",
    "4. [How does netts work?](#4.How-does-netts-work?)\n",
    "\n",
    "Caroline Nettekoven & Ryan Daniels\\\n",
    "February 2023, University of Cambridge\n",
    "\n",
    "Find more information about netts on [my website](https://www.caroline-nettekoven.com/post/netts/), in the [netts documentation](https://alan-turing-institute.github.io/netts/) or in our [preprint](https://doi.org/10.1101/2022.02.25.22271517) (in press at [Schizophrenia Bulletin](https://academic.oup.com/schizophreniabulletin)). You can also read more about netts on the [Accelerate Science Cambridge Blog](https://acceleratescience.github.io/blog)."
   ]
  },
  {
   "attachments": {},
   "cell_type": "markdown",
   "metadata": {},
   "source": [
    "## 1. Installing Netts\n",
    "\n",
    "We will begin by quickly walking you through installing netts. Ideally, you create a Python environment to install netts into, in your project folder ([This guide](https://docs.python.org/3/library/venv.html) will show you how). But you can also install netts without a Python environment, if you don't want to work with Python environments.\n",
    "\n",
    "Set up a virtual environment of your choice, here we use pyenv and python 3.9 <span style=\"color:green\"> we can replace this with anything else that you want, it's just what I've been using </span>:\n",
    "\n",
    "```bash\n",
    "python3.9 -m venv .venv\n",
    "source .venv/bin/activate\n",
    "```\n",
    "\n",
    "\n",
    "To install the latest official release of netts from PyPI, open up a [terminal](https://www.computerhope.com/jargon/t/terminal.htm) and from the command line prompt run:\n",
    "\n",
    "```bash\n",
    "pip install netts\n",
    "```\n",
    "\n",
    "\n",
    "### Install Additional Dependencies\n",
    "\n",
    "Netts may require the Java Runtime Environment. Instructions for downloading and installing for your operating system can be found [here](https://docs.oracle.com/goldengate/1212/gg-winux/GDRAD/java.htm#BGBFHBEA).\n",
    "\n",
    "Netts requires additional dependencies including [CoreNLP](https://stanfordnlp.github.io/CoreNLP/) and [OpenIE](https://github.com/dair-iitd/OpenIE-standalone). You can install them either directly from the netts CLI or in Python.\n",
    "\n",
    "To install using the CLI:\n",
    "\n",
    "```bash\n",
    "netts install\n",
    "```\n",
    "\n",
    "To install in a notebook:"
   ]
  },
  {
   "cell_type": "code",
   "execution_count": 1,
   "metadata": {},
   "outputs": [
    {
     "name": "stderr",
     "output_type": "stream",
     "text": [
      "/Users/callithrix/Documents/Projects/Cambridge_Netts/code/netts_demo/env/lib/python3.9/site-packages/tqdm/auto.py:22: TqdmWarning: IProgress not found. Please update jupyter and ipywidgets. See https://ipywidgets.readthedocs.io/en/stable/user_install.html\n",
      "  from .autonotebook import tqdm as notebook_tqdm\n"
     ]
    },
    {
     "name": "stdout",
     "output_type": "stream",
     "text": [
      "Installing dependencies to /Users/callithrix/netts\n"
     ]
    },
    {
     "data": {
      "text/html": [
       "<pre style=\"white-space:pre;overflow-x:auto;line-height:normal;font-family:Menlo,'DejaVu Sans Mono',consolas,'Courier New',monospace\"><span style=\"color: #7fbfbf; text-decoration-color: #7fbfbf\">[03/22/23 19:17:23] </span><span style=\"color: #000080; text-decoration-color: #000080\">INFO    </span> Downloading: NLTK punkt library to: <span style=\"color: #800080; text-decoration-color: #800080\">/Users/callithrix/netts/</span><span style=\"color: #ff00ff; text-decoration-color: #ff00ff\">nltk_data</span>                 \n",
       "</pre>\n"
      ],
      "text/plain": [
       "\u001b[2;36m[03/22/23 19:17:23]\u001b[0m\u001b[2;36m \u001b[0m\u001b[34mINFO    \u001b[0m Downloading: NLTK punkt library to: \u001b[35m/Users/callithrix/netts/\u001b[0m\u001b[95mnltk_data\u001b[0m                 \n"
      ]
     },
     "metadata": {},
     "output_type": "display_data"
    },
    {
     "data": {
      "text/html": [
       "<pre style=\"white-space:pre;overflow-x:auto;line-height:normal;font-family:Menlo,'DejaVu Sans Mono',consolas,'Courier New',monospace\"><span style=\"color: #7fbfbf; text-decoration-color: #7fbfbf\">                    </span><span style=\"color: #800000; text-decoration-color: #800000\">WARNING </span> NLTK directory already exists: <span style=\"color: #800080; text-decoration-color: #800080\">/Users/callithrix/netts/</span><span style=\"color: #ff00ff; text-decoration-color: #ff00ff\">nltk_data</span>                      \n",
       "</pre>\n"
      ],
      "text/plain": [
       "\u001b[2;36m                   \u001b[0m\u001b[2;36m \u001b[0m\u001b[31mWARNING \u001b[0m NLTK directory already exists: \u001b[35m/Users/callithrix/netts/\u001b[0m\u001b[95mnltk_data\u001b[0m                      \n"
      ]
     },
     "metadata": {},
     "output_type": "display_data"
    },
    {
     "data": {
      "text/html": [
       "<pre style=\"white-space:pre;overflow-x:auto;line-height:normal;font-family:Menlo,'DejaVu Sans Mono',consolas,'Courier New',monospace\"><span style=\"color: #7fbfbf; text-decoration-color: #7fbfbf\">                    </span><span style=\"color: #000080; text-decoration-color: #000080\">INFO    </span> Downloading: Stanza CoreNLP library to: <span style=\"color: #800080; text-decoration-color: #800080\">/Users/callithrix/netts/</span><span style=\"color: #ff00ff; text-decoration-color: #ff00ff\">stanza_corenlp</span>        \n",
       "</pre>\n"
      ],
      "text/plain": [
       "\u001b[2;36m                   \u001b[0m\u001b[2;36m \u001b[0m\u001b[34mINFO    \u001b[0m Downloading: Stanza CoreNLP library to: \u001b[35m/Users/callithrix/netts/\u001b[0m\u001b[95mstanza_corenlp\u001b[0m        \n"
      ]
     },
     "metadata": {},
     "output_type": "display_data"
    },
    {
     "data": {
      "text/html": [
       "<pre style=\"white-space:pre;overflow-x:auto;line-height:normal;font-family:Menlo,'DejaVu Sans Mono',consolas,'Courier New',monospace\"><span style=\"color: #7fbfbf; text-decoration-color: #7fbfbf\">                    </span><span style=\"color: #800000; text-decoration-color: #800000\">WARNING </span> Stanza CoreNLP directory already exists: <span style=\"color: #800080; text-decoration-color: #800080\">/Users/callithrix/netts/</span><span style=\"color: #ff00ff; text-decoration-color: #ff00ff\">stanza_corenlp</span>       \n",
       "</pre>\n"
      ],
      "text/plain": [
       "\u001b[2;36m                   \u001b[0m\u001b[2;36m \u001b[0m\u001b[31mWARNING \u001b[0m Stanza CoreNLP directory already exists: \u001b[35m/Users/callithrix/netts/\u001b[0m\u001b[95mstanza_corenlp\u001b[0m       \n"
      ]
     },
     "metadata": {},
     "output_type": "display_data"
    },
    {
     "data": {
      "text/html": [
       "<pre style=\"white-space:pre;overflow-x:auto;line-height:normal;font-family:Menlo,'DejaVu Sans Mono',consolas,'Courier New',monospace\"><span style=\"color: #7fbfbf; text-decoration-color: #7fbfbf\">                    </span><span style=\"color: #000080; text-decoration-color: #000080\">INFO    </span> Downloading: OpenIE <span style=\"color: #008080; text-decoration-color: #008080; font-weight: bold\">5.1</span> binary to:                                                    \n",
       "<span style=\"color: #7fbfbf; text-decoration-color: #7fbfbf\">                    </span>         <span style=\"color: #800080; text-decoration-color: #800080\">/Users/callithrix/netts/openie/</span><span style=\"color: #ff00ff; text-decoration-color: #ff00ff\">openie-assembly-5.0-SNAPSHOT.jar</span>                       \n",
       "</pre>\n"
      ],
      "text/plain": [
       "\u001b[2;36m                   \u001b[0m\u001b[2;36m \u001b[0m\u001b[34mINFO    \u001b[0m Downloading: OpenIE \u001b[1;36m5.1\u001b[0m binary to:                                                    \n",
       "\u001b[2;36m                    \u001b[0m         \u001b[35m/Users/callithrix/netts/openie/\u001b[0m\u001b[95mopenie-assembly-5.0-SNAPSHOT.jar\u001b[0m                       \n"
      ]
     },
     "metadata": {},
     "output_type": "display_data"
    },
    {
     "data": {
      "text/html": [
       "<pre style=\"white-space:pre;overflow-x:auto;line-height:normal;font-family:Menlo,'DejaVu Sans Mono',consolas,'Courier New',monospace\"><span style=\"color: #7fbfbf; text-decoration-color: #7fbfbf\">[03/22/23 19:17:27] </span><span style=\"color: #800000; text-decoration-color: #800000\">WARNING </span> OpenIE <span style=\"color: #008080; text-decoration-color: #008080; font-weight: bold\">5.1</span> binary already exists:                                                     \n",
       "<span style=\"color: #7fbfbf; text-decoration-color: #7fbfbf\">                    </span>         <span style=\"color: #800080; text-decoration-color: #800080\">/Users/callithrix/netts/openie/</span><span style=\"color: #ff00ff; text-decoration-color: #ff00ff\">openie-assembly-5.0-SNAPSHOT.jar</span>                       \n",
       "</pre>\n"
      ],
      "text/plain": [
       "\u001b[2;36m[03/22/23 19:17:27]\u001b[0m\u001b[2;36m \u001b[0m\u001b[31mWARNING \u001b[0m OpenIE \u001b[1;36m5.1\u001b[0m binary already exists:                                                     \n",
       "\u001b[2;36m                    \u001b[0m         \u001b[35m/Users/callithrix/netts/openie/\u001b[0m\u001b[95mopenie-assembly-5.0-SNAPSHOT.jar\u001b[0m                       \n"
      ]
     },
     "metadata": {},
     "output_type": "display_data"
    },
    {
     "data": {
      "text/html": [
       "<pre style=\"white-space:pre;overflow-x:auto;line-height:normal;font-family:Menlo,'DejaVu Sans Mono',consolas,'Courier New',monospace\"><span style=\"color: #7fbfbf; text-decoration-color: #7fbfbf\">                    </span><span style=\"color: #000080; text-decoration-color: #000080\">INFO    </span> Downloading: Language model to: <span style=\"color: #800080; text-decoration-color: #800080\">/Users/callithrix/netts/openie/data/</span><span style=\"color: #ff00ff; text-decoration-color: #ff00ff\">languageModel</span>     \n",
       "</pre>\n"
      ],
      "text/plain": [
       "\u001b[2;36m                   \u001b[0m\u001b[2;36m \u001b[0m\u001b[34mINFO    \u001b[0m Downloading: Language model to: \u001b[35m/Users/callithrix/netts/openie/data/\u001b[0m\u001b[95mlanguageModel\u001b[0m     \n"
      ]
     },
     "metadata": {},
     "output_type": "display_data"
    },
    {
     "data": {
      "text/html": [
       "<pre style=\"white-space:pre;overflow-x:auto;line-height:normal;font-family:Menlo,'DejaVu Sans Mono',consolas,'Courier New',monospace\"><span style=\"color: #7fbfbf; text-decoration-color: #7fbfbf\">[03/22/23 19:17:41] </span><span style=\"color: #800000; text-decoration-color: #800000\">WARNING </span> Language model already exists: <span style=\"color: #800080; text-decoration-color: #800080\">/Users/callithrix/netts/openie/data/</span><span style=\"color: #ff00ff; text-decoration-color: #ff00ff\">languageModel</span>      \n",
       "</pre>\n"
      ],
      "text/plain": [
       "\u001b[2;36m[03/22/23 19:17:41]\u001b[0m\u001b[2;36m \u001b[0m\u001b[31mWARNING \u001b[0m Language model already exists: \u001b[35m/Users/callithrix/netts/openie/data/\u001b[0m\u001b[95mlanguageModel\u001b[0m      \n"
      ]
     },
     "metadata": {},
     "output_type": "display_data"
    }
   ],
   "source": [
    "import netts\n",
    "\n",
    "settings = netts.get_settings()\n",
    "print(f\"Installing dependencies to {settings.netts_dir}\")\n",
    "netts.install_dependencies()"
   ]
  },
  {
   "attachments": {},
   "cell_type": "markdown",
   "metadata": {},
   "source": [
    "## 2. Constructing a semantic speech network\n",
    "\n",
    "Netts takes speech transcripts and converts them into a semantic graph. Imagine we have the following short transcript in a file called `transcript_1.txt` in the folder `transcripts/`:\n",
    "\n",
    "> I see a man and he is wearing a jacket. He is standing in the dark against a light post. On the picture there seems to be like a park and... Or trees but in those trees there are little balls of light reflections as well. I cannot see the... Anything else because it’s very dark. But the man on the picture seems to wear a hat and he seems to have a hoodie on as well. The picture is very mysterious, which I like about it, but for me I would like to understand more about the picture.\n",
    "\n",
    "We can create a semantic graph from the transcript using either the command line interface (CLI) of python package.\n",
    "\n",
    "Let's first print the content of `transcript_1.txt`:\n",
    "\n"
   ]
  },
  {
   "cell_type": "code",
   "execution_count": 3,
   "metadata": {},
   "outputs": [
    {
     "name": "stdout",
     "output_type": "stream",
     "text": [
      "I see a man and he is wearing a jacket. He is standing in the dark against a light post. On the picture there seems to be like a park and... Or trees but in those trees there are little balls of light reflections as well. I cannot see the... Anything else because it’s very dark. But the man on the picture seems to wear a hat and he seems to have a hoodie on as well. The picture is very mysterious, which I like about it, but for me I would like to understand more about the picture."
     ]
    }
   ],
   "source": [
    "%%bash\n",
    "cat transcripts/transcript_1.txt\n"
   ]
  },
  {
   "attachments": {},
   "cell_type": "markdown",
   "metadata": {},
   "source": [
    "### 2.1 Command Line Interface\n",
    "We can process a single transcript with the Command Line Interface (CLI) like this\n",
    "\n",
    "\n",
    "```bash\n",
    "netts run transcript.txt outputs\n",
    "```\n",
    "\n",
    "#### Inputs\n",
    "\n",
    "We can break this down into the following components:\n",
    "\n",
    "| CLI Command | transcript.txt     | outputs                  |\n",
    "| ----------- | ------------------ | ------------------------ |\n",
    "| netts run   | Path to transcript | path of output directory |\n",
    "\n",
    "1. `transcript.txt` can be replaced with the full path to any `.txt` file.\n",
    "2. `outputs` can be replaced with the path to any directory. If the directory does not exist yet netts will create it.\n",
    "\n",
    "We're going to run this inside a Jupyter notebook cell now:"
   ]
  },
  {
   "cell_type": "code",
   "execution_count": 7,
   "metadata": {},
   "outputs": [
    {
     "name": "stdout",
     "output_type": "stream",
     "text": [
      "[03/22/23 19:47:41] INFO     For logging information, please check              \n",
      "                             /Users/callithrix/Documents/Projects/Cambridge_Nett\n",
      "                             s/code/netts_demo/netts_log.log                    \n",
      "Starting CoreNLP Server...\n",
      "Processing Transcript(s)...\n"
     ]
    }
   ],
   "source": [
    "%%bash\n",
    "netts run transcripts/transcript_1.txt output_folder"
   ]
  },
  {
   "attachments": {},
   "cell_type": "markdown",
   "metadata": {},
   "source": [
    "Netts will let you know if it has found output files (png or pickle files) for the transcripts you are trying to process. In that case, netts will give a warning and stop processing any transcripts that have already been processed. If you would like to generate these files again with netts, move your old files out of the folder or rename then. Then re-run netts on your input transcript."
   ]
  },
  {
   "attachments": {},
   "cell_type": "markdown",
   "metadata": {},
   "source": [
    "#### Outputs\n",
    "\n",
    "Once netts processes the transcript the output directory will contain two files:\n",
    "\n",
    "```text\n",
    "outputs/\n",
    "    transcript.pickle\n",
    "    transcript.png\n",
    "```\n",
    "\n",
    "The file prefix is taken from the input file (in this case <code><ins style=\"color: green; text-decoration-color: green;\">transcript</ins>.txt</code>)"
   ]
  },
  {
   "attachments": {},
   "cell_type": "markdown",
   "metadata": {},
   "source": [
    "Netts will also produce a log file. Any serious issues will be printed out to the console, but minor pieces of information will end up in a log file located in your output directory."
   ]
  },
  {
   "attachments": {},
   "cell_type": "markdown",
   "metadata": {},
   "source": [
    "### 2.2 Python Interface\n",
    "\n",
    "If you dont want to use the netts command line interface (CLI) or want more control over netts you can use the netts python package directly. Here we'll run through the example transcript in Python.\n",
    "\n",
    "The transcript `transcript_1.txt` is in the directory `transcripts/`. We will load open it with Python and process it with netts."
   ]
  },
  {
   "cell_type": "code",
   "execution_count": 11,
   "metadata": {},
   "outputs": [
    {
     "data": {
      "text/html": [
       "<pre style=\"white-space:pre;overflow-x:auto;line-height:normal;font-family:Menlo,'DejaVu Sans Mono',consolas,'Courier New',monospace\"><span style=\"color: #7fbfbf; text-decoration-color: #7fbfbf\">[03/22/23 19:52:41] </span><span style=\"color: #000080; text-decoration-color: #000080\">INFO    </span> Writing properties to tmp file: corenlp_server-4aeaa1168751465d.props                 \n",
       "</pre>\n"
      ],
      "text/plain": [
       "\u001b[2;36m[03/22/23 19:52:41]\u001b[0m\u001b[2;36m \u001b[0m\u001b[34mINFO    \u001b[0m Writing properties to tmp file: corenlp_server-4aeaa1168751465d.props                 \n"
      ]
     },
     "metadata": {},
     "output_type": "display_data"
    },
    {
     "name": "stderr",
     "output_type": "stream",
     "text": [
      "INFO:stanza:Writing properties to tmp file: corenlp_server-4aeaa1168751465d.props\n"
     ]
    },
    {
     "data": {
      "text/html": [
       "<pre style=\"white-space:pre;overflow-x:auto;line-height:normal;font-family:Menlo,'DejaVu Sans Mono',consolas,'Courier New',monospace\"><span style=\"color: #7fbfbf; text-decoration-color: #7fbfbf\">                    </span><span style=\"color: #000080; text-decoration-color: #000080\">INFO    </span> Starting server with command: java -Xmx5G -cp <span style=\"color: #800080; text-decoration-color: #800080\">/Users/callithrix/netts/stanza_corenlp/</span>*\n",
       "<span style=\"color: #7fbfbf; text-decoration-color: #7fbfbf\">                    </span>         edu.stanford.nlp.pipeline.StanfordCoreNLPServer -port <span style=\"color: #008080; text-decoration-color: #008080; font-weight: bold\">8089</span> -timeout <span style=\"color: #008080; text-decoration-color: #008080; font-weight: bold\">60000</span> -threads <span style=\"color: #008080; text-decoration-color: #008080; font-weight: bold\">5</span>  \n",
       "<span style=\"color: #7fbfbf; text-decoration-color: #7fbfbf\">                    </span>         -maxCharLength <span style=\"color: #008080; text-decoration-color: #008080; font-weight: bold\">100000</span> -quiet <span style=\"color: #ff0000; text-decoration-color: #ff0000; font-style: italic\">False</span> -serverProperties                                  \n",
       "<span style=\"color: #7fbfbf; text-decoration-color: #7fbfbf\">                    </span>         corenlp_server-4aeaa1168751465d.props -preload -outputFormat serialized               \n",
       "</pre>\n"
      ],
      "text/plain": [
       "\u001b[2;36m                   \u001b[0m\u001b[2;36m \u001b[0m\u001b[34mINFO    \u001b[0m Starting server with command: java -Xmx5G -cp \u001b[35m/Users/callithrix/netts/stanza_corenlp/\u001b[0m*\n",
       "\u001b[2;36m                    \u001b[0m         edu.stanford.nlp.pipeline.StanfordCoreNLPServer -port \u001b[1;36m8089\u001b[0m -timeout \u001b[1;36m60000\u001b[0m -threads \u001b[1;36m5\u001b[0m  \n",
       "\u001b[2;36m                    \u001b[0m         -maxCharLength \u001b[1;36m100000\u001b[0m -quiet \u001b[3;91mFalse\u001b[0m -serverProperties                                  \n",
       "\u001b[2;36m                    \u001b[0m         corenlp_server-4aeaa1168751465d.props -preload -outputFormat serialized               \n"
      ]
     },
     "metadata": {},
     "output_type": "display_data"
    },
    {
     "name": "stderr",
     "output_type": "stream",
     "text": [
      "INFO:stanza:Starting server with command: java -Xmx5G -cp /Users/callithrix/netts/stanza_corenlp/* edu.stanford.nlp.pipeline.StanfordCoreNLPServer -port 8089 -timeout 60000 -threads 5 -maxCharLength 100000 -quiet False -serverProperties corenlp_server-4aeaa1168751465d.props -preload -outputFormat serialized\n",
      "[main] INFO CoreNLP - --- StanfordCoreNLPServer#main() called ---\n",
      "[main] INFO CoreNLP - Server default properties:\n",
      "\t\t\t(Note: unspecified annotator properties are English defaults)\n",
      "\t\t\tannotators = tokenize,ssplit,pos,lemma,parse,depparse,coref,openie\n",
      "\t\t\tbe_quiet = true\n",
      "\t\t\tinputFormat = text\n",
      "\t\t\toutputFormat = serialized\n",
      "\t\t\tprettyPrint = false\n",
      "\t\t\tthreads = 5\n",
      "[main] INFO CoreNLP - Threads: 5\n",
      "[main] INFO edu.stanford.nlp.pipeline.StanfordCoreNLP - Adding annotator tokenize\n",
      "[main] INFO edu.stanford.nlp.pipeline.StanfordCoreNLP - Adding annotator pos\n",
      "[main] INFO edu.stanford.nlp.tagger.maxent.MaxentTagger - Loading POS tagger from edu/stanford/nlp/models/pos-tagger/english-left3words-distsim.tagger ... done [0.7 sec].\n",
      "[main] INFO edu.stanford.nlp.pipeline.StanfordCoreNLP - Adding annotator lemma\n",
      "[main] INFO edu.stanford.nlp.pipeline.StanfordCoreNLP - Adding annotator parse\n",
      "[main] INFO edu.stanford.nlp.parser.common.ParserGrammar - Loading parser from serialized file edu/stanford/nlp/models/lexparser/englishPCFG.ser.gz ... done [0.7 sec].\n",
      "[main] INFO edu.stanford.nlp.pipeline.StanfordCoreNLP - Adding annotator depparse\n",
      "[main] INFO edu.stanford.nlp.parser.nndep.DependencyParser - Loading depparse model: edu/stanford/nlp/models/parser/nndep/english_UD.gz ... Time elapsed: 1.0 sec\n",
      "[main] INFO edu.stanford.nlp.parser.nndep.Classifier - PreComputed 20000 vectors, elapsed Time: 0.67 sec\n",
      "[main] INFO edu.stanford.nlp.parser.nndep.DependencyParser - Initializing dependency parser ... done [1.7 sec].\n",
      "[main] INFO edu.stanford.nlp.pipeline.StanfordCoreNLP - Adding annotator coref\n",
      "[main] INFO edu.stanford.nlp.coref.statistical.SimpleLinearClassifier - Loading coref model edu/stanford/nlp/models/coref/statistical/ranking_model.ser.gz ... done [2.0 sec].\n",
      "[main] INFO edu.stanford.nlp.pipeline.CorefMentionAnnotator - Using mention detector type: dependency\n",
      "[main] ERROR CoreNLP - Could not pre-load annotators in server; encountered exception:\n",
      "[main] ERROR CoreNLP - java.lang.IllegalArgumentException: annotator \"coref\" requires annotation \"MentionsAnnotation\". The usual requirements for this annotator are: tokenize,pos,lemma,ner,depparse\n",
      "  edu.stanford.nlp.pipeline.StanfordCoreNLP.<init>(StanfordCoreNLP.java:292)\n",
      "  edu.stanford.nlp.pipeline.StanfordCoreNLP.<init>(StanfordCoreNLP.java:194)\n",
      "  edu.stanford.nlp.pipeline.StanfordCoreNLP.<init>(StanfordCoreNLP.java:190)\n",
      "  edu.stanford.nlp.pipeline.StanfordCoreNLPServer.launchServer(StanfordCoreNLPServer.java:1622)\n",
      "  edu.stanford.nlp.pipeline.StanfordCoreNLPServer.main(StanfordCoreNLPServer.java:1644)\n",
      "[main] INFO CoreNLP - Starting server...\n",
      "[main] INFO CoreNLP - StanfordCoreNLPServer listening at /0.0.0.0:8089\n",
      "[pool-1-thread-3] INFO CoreNLP - [/127.0.0.1:60382] API call w/annotators tokenize,pos,lemma,parse,depparse,ner,natlog,coref,openie\n",
      "[pool-1-thread-3] INFO edu.stanford.nlp.pipeline.StanfordCoreNLP - Adding annotator tokenize\n",
      "[pool-1-thread-3] INFO edu.stanford.nlp.pipeline.StanfordCoreNLP - Adding annotator pos\n",
      "[pool-1-thread-3] INFO edu.stanford.nlp.pipeline.StanfordCoreNLP - Adding annotator lemma\n",
      "[pool-1-thread-3] INFO edu.stanford.nlp.pipeline.StanfordCoreNLP - Adding annotator parse\n",
      "[pool-1-thread-3] INFO edu.stanford.nlp.pipeline.StanfordCoreNLP - Adding annotator depparse\n",
      "[pool-1-thread-3] INFO edu.stanford.nlp.pipeline.StanfordCoreNLP - Adding annotator ner\n"
     ]
    },
    {
     "name": "stdout",
     "output_type": "stream",
     "text": [
      "I see a man and he is wearing a jacket . He is standing in the dark against a light post . On the picture there seems to be like a park and ... Or trees but in those trees there are little balls of light reflections as well . I can not see the ... Anything else because it is very dark . But the man on the picture seems to wear a hat and he seems to have a hoodie on as well . The picture is very mysterious , which I like about it , but for me I would like to understand more about the picture .\n"
     ]
    },
    {
     "name": "stderr",
     "output_type": "stream",
     "text": [
      "[pool-1-thread-3] INFO edu.stanford.nlp.ie.AbstractSequenceClassifier - Loading classifier from edu/stanford/nlp/models/ner/english.all.3class.distsim.crf.ser.gz ... done [0.8 sec].\n",
      "[pool-1-thread-3] INFO edu.stanford.nlp.ie.AbstractSequenceClassifier - Loading classifier from edu/stanford/nlp/models/ner/english.muc.7class.distsim.crf.ser.gz ... done [0.4 sec].\n",
      "[pool-1-thread-3] INFO edu.stanford.nlp.ie.AbstractSequenceClassifier - Loading classifier from edu/stanford/nlp/models/ner/english.conll.4class.distsim.crf.ser.gz ... done [0.4 sec].\n",
      "[pool-1-thread-3] INFO edu.stanford.nlp.time.JollyDayHolidays - Initializing JollyDayHoliday for SUTime from classpath edu/stanford/nlp/models/sutime/jollyday/Holidays_sutime.xml as sutime.binder.1.\n",
      "[pool-1-thread-3] INFO edu.stanford.nlp.time.TimeExpressionExtractorImpl - Using following SUTime rules: edu/stanford/nlp/models/sutime/defs.sutime.txt,edu/stanford/nlp/models/sutime/english.sutime.txt,edu/stanford/nlp/models/sutime/english.holidays.sutime.txt\n",
      "[pool-1-thread-3] INFO edu.stanford.nlp.pipeline.TokensRegexNERAnnotator - ner.fine.regexner: Read 580705 unique entries out of 581864 from edu/stanford/nlp/models/kbp/english/gazetteers/regexner_caseless.tab, 0 TokensRegex patterns.\n",
      "[pool-1-thread-3] INFO edu.stanford.nlp.pipeline.TokensRegexNERAnnotator - ner.fine.regexner: Read 4867 unique entries out of 4867 from edu/stanford/nlp/models/kbp/english/gazetteers/regexner_cased.tab, 0 TokensRegex patterns.\n",
      "[pool-1-thread-3] INFO edu.stanford.nlp.pipeline.TokensRegexNERAnnotator - ner.fine.regexner: Read 585572 unique entries from 2 files\n",
      "[pool-1-thread-3] INFO edu.stanford.nlp.pipeline.NERCombinerAnnotator - numeric classifiers: true; SUTime: true [no docDate]; fine grained: true\n",
      "[pool-1-thread-3] INFO edu.stanford.nlp.pipeline.StanfordCoreNLP - Adding annotator natlog\n",
      "[pool-1-thread-3] INFO edu.stanford.nlp.pipeline.StanfordCoreNLP - Adding annotator coref\n",
      "[pool-1-thread-3] INFO edu.stanford.nlp.pipeline.StanfordCoreNLP - Adding annotator openie\n",
      "[pool-1-thread-3] INFO edu.stanford.nlp.naturalli.ClauseSplitter - Loading clause splitter from edu/stanford/nlp/models/naturalli/clauseSearcherModel.ser.gz ... done [0.046 seconds]\n"
     ]
    },
    {
     "data": {
      "text/html": [
       "<pre style=\"white-space:pre;overflow-x:auto;line-height:normal;font-family:Menlo,'DejaVu Sans Mono',consolas,'Courier New',monospace\"><span style=\"color: #7fbfbf; text-decoration-color: #7fbfbf\">[03/22/23 19:53:17] </span><span style=\"color: #000080; text-decoration-color: #000080\">INFO    </span>   he | is wearing | a jacket                                                          \n",
       "</pre>\n"
      ],
      "text/plain": [
       "\u001b[2;36m[03/22/23 19:53:17]\u001b[0m\u001b[2;36m \u001b[0m\u001b[34mINFO    \u001b[0m   he | is wearing | a jacket                                                          \n"
      ]
     },
     "metadata": {},
     "output_type": "display_data"
    },
    {
     "name": "stderr",
     "output_type": "stream",
     "text": [
      "INFO:netts:  he | is wearing | a jacket\n"
     ]
    },
    {
     "data": {
      "text/html": [
       "<pre style=\"white-space:pre;overflow-x:auto;line-height:normal;font-family:Menlo,'DejaVu Sans Mono',consolas,'Courier New',monospace\"><span style=\"color: #7fbfbf; text-decoration-color: #7fbfbf\">                    </span><span style=\"color: #000080; text-decoration-color: #000080\">INFO    </span>   i | see | a man                                                                     \n",
       "</pre>\n"
      ],
      "text/plain": [
       "\u001b[2;36m                   \u001b[0m\u001b[2;36m \u001b[0m\u001b[34mINFO    \u001b[0m   i | see | a man                                                                     \n"
      ]
     },
     "metadata": {},
     "output_type": "display_data"
    },
    {
     "name": "stderr",
     "output_type": "stream",
     "text": [
      "INFO:netts:  i | see | a man\n"
     ]
    },
    {
     "data": {
      "text/html": [
       "<pre style=\"white-space:pre;overflow-x:auto;line-height:normal;font-family:Menlo,'DejaVu Sans Mono',consolas,'Courier New',monospace\"><span style=\"color: #7fbfbf; text-decoration-color: #7fbfbf\">                    </span><span style=\"color: #000080; text-decoration-color: #000080\">INFO    </span>   he | is standing | in the dark                                                      \n",
       "</pre>\n"
      ],
      "text/plain": [
       "\u001b[2;36m                   \u001b[0m\u001b[2;36m \u001b[0m\u001b[34mINFO    \u001b[0m   he | is standing | in the dark                                                      \n"
      ]
     },
     "metadata": {},
     "output_type": "display_data"
    },
    {
     "name": "stderr",
     "output_type": "stream",
     "text": [
      "INFO:netts:  he | is standing | in the dark\n"
     ]
    },
    {
     "data": {
      "text/html": [
       "<pre style=\"white-space:pre;overflow-x:auto;line-height:normal;font-family:Menlo,'DejaVu Sans Mono',consolas,'Courier New',monospace\"><span style=\"color: #7fbfbf; text-decoration-color: #7fbfbf\">                    </span><span style=\"color: #000080; text-decoration-color: #000080\">INFO    </span>   there | seems | on the picture                                                      \n",
       "</pre>\n"
      ],
      "text/plain": [
       "\u001b[2;36m                   \u001b[0m\u001b[2;36m \u001b[0m\u001b[34mINFO    \u001b[0m   there | seems | on the picture                                                      \n"
      ]
     },
     "metadata": {},
     "output_type": "display_data"
    },
    {
     "name": "stderr",
     "output_type": "stream",
     "text": [
      "INFO:netts:  there | seems | on the picture\n"
     ]
    },
    {
     "data": {
      "text/html": [
       "<pre style=\"white-space:pre;overflow-x:auto;line-height:normal;font-family:Menlo,'DejaVu Sans Mono',consolas,'Courier New',monospace\"><span style=\"color: #7fbfbf; text-decoration-color: #7fbfbf\">                    </span><span style=\"color: #000080; text-decoration-color: #000080\">INFO    </span>   it | is | very dark                                                                 \n",
       "</pre>\n"
      ],
      "text/plain": [
       "\u001b[2;36m                   \u001b[0m\u001b[2;36m \u001b[0m\u001b[34mINFO    \u001b[0m   it | is | very dark                                                                 \n"
      ]
     },
     "metadata": {},
     "output_type": "display_data"
    },
    {
     "name": "stderr",
     "output_type": "stream",
     "text": [
      "INFO:netts:  it | is | very dark\n"
     ]
    },
    {
     "data": {
      "text/html": [
       "<pre style=\"white-space:pre;overflow-x:auto;line-height:normal;font-family:Menlo,'DejaVu Sans Mono',consolas,'Courier New',monospace\"><span style=\"color: #7fbfbf; text-decoration-color: #7fbfbf\">                    </span><span style=\"color: #000080; text-decoration-color: #000080\">INFO    </span>   i | can not see | the <span style=\"color: #808000; text-decoration-color: #808000\">...</span> anything else                                             \n",
       "</pre>\n"
      ],
      "text/plain": [
       "\u001b[2;36m                   \u001b[0m\u001b[2;36m \u001b[0m\u001b[34mINFO    \u001b[0m   i | can not see | the \u001b[33m...\u001b[0m anything else                                             \n"
      ]
     },
     "metadata": {},
     "output_type": "display_data"
    },
    {
     "name": "stderr",
     "output_type": "stream",
     "text": [
      "INFO:netts:  i | can not see | the ... anything else\n"
     ]
    },
    {
     "data": {
      "text/html": [
       "<pre style=\"white-space:pre;overflow-x:auto;line-height:normal;font-family:Menlo,'DejaVu Sans Mono',consolas,'Courier New',monospace\"><span style=\"color: #7fbfbf; text-decoration-color: #7fbfbf\">                    </span><span style=\"color: #000080; text-decoration-color: #000080\">INFO    </span>   he | to have | a hoodie on                                                          \n",
       "</pre>\n"
      ],
      "text/plain": [
       "\u001b[2;36m                   \u001b[0m\u001b[2;36m \u001b[0m\u001b[34mINFO    \u001b[0m   he | to have | a hoodie on                                                          \n"
      ]
     },
     "metadata": {},
     "output_type": "display_data"
    },
    {
     "name": "stderr",
     "output_type": "stream",
     "text": [
      "INFO:netts:  he | to have | a hoodie on\n"
     ]
    },
    {
     "data": {
      "text/html": [
       "<pre style=\"white-space:pre;overflow-x:auto;line-height:normal;font-family:Menlo,'DejaVu Sans Mono',consolas,'Courier New',monospace\"><span style=\"color: #7fbfbf; text-decoration-color: #7fbfbf\">                    </span><span style=\"color: #000080; text-decoration-color: #000080\">INFO    </span>   the man on the picture | to wear | a hat                                            \n",
       "</pre>\n"
      ],
      "text/plain": [
       "\u001b[2;36m                   \u001b[0m\u001b[2;36m \u001b[0m\u001b[34mINFO    \u001b[0m   the man on the picture | to wear | a hat                                            \n"
      ]
     },
     "metadata": {},
     "output_type": "display_data"
    },
    {
     "name": "stderr",
     "output_type": "stream",
     "text": [
      "INFO:netts:  the man on the picture | to wear | a hat\n"
     ]
    },
    {
     "data": {
      "text/html": [
       "<pre style=\"white-space:pre;overflow-x:auto;line-height:normal;font-family:Menlo,'DejaVu Sans Mono',consolas,'Courier New',monospace\"><span style=\"color: #7fbfbf; text-decoration-color: #7fbfbf\">                    </span><span style=\"color: #000080; text-decoration-color: #000080\">INFO    </span>   i | would like to understand | more about the picture                               \n",
       "</pre>\n"
      ],
      "text/plain": [
       "\u001b[2;36m                   \u001b[0m\u001b[2;36m \u001b[0m\u001b[34mINFO    \u001b[0m   i | would like to understand | more about the picture                               \n"
      ]
     },
     "metadata": {},
     "output_type": "display_data"
    },
    {
     "name": "stderr",
     "output_type": "stream",
     "text": [
      "INFO:netts:  i | would like to understand | more about the picture\n"
     ]
    },
    {
     "data": {
      "text/html": [
       "<pre style=\"white-space:pre;overflow-x:auto;line-height:normal;font-family:Menlo,'DejaVu Sans Mono',consolas,'Courier New',monospace\"><span style=\"color: #7fbfbf; text-decoration-color: #7fbfbf\">                    </span><span style=\"color: #000080; text-decoration-color: #000080\">INFO    </span>   i | like | about it                                                                 \n",
       "</pre>\n"
      ],
      "text/plain": [
       "\u001b[2;36m                   \u001b[0m\u001b[2;36m \u001b[0m\u001b[34mINFO    \u001b[0m   i | like | about it                                                                 \n"
      ]
     },
     "metadata": {},
     "output_type": "display_data"
    },
    {
     "name": "stderr",
     "output_type": "stream",
     "text": [
      "INFO:netts:  i | like | about it\n"
     ]
    },
    {
     "data": {
      "text/html": [
       "<pre style=\"white-space:pre;overflow-x:auto;line-height:normal;font-family:Menlo,'DejaVu Sans Mono',consolas,'Courier New',monospace\"><span style=\"color: #7fbfbf; text-decoration-color: #7fbfbf\">                    </span><span style=\"color: #000080; text-decoration-color: #000080\">INFO    </span>   the picture | is | very mysterious                                                  \n",
       "</pre>\n"
      ],
      "text/plain": [
       "\u001b[2;36m                   \u001b[0m\u001b[2;36m \u001b[0m\u001b[34mINFO    \u001b[0m   the picture | is | very mysterious                                                  \n"
      ]
     },
     "metadata": {},
     "output_type": "display_data"
    },
    {
     "name": "stderr",
     "output_type": "stream",
     "text": [
      "INFO:netts:  the picture | is | very mysterious\n"
     ]
    },
    {
     "data": {
      "text/html": [
       "<pre style=\"white-space:pre;overflow-x:auto;line-height:normal;font-family:Menlo,'DejaVu Sans Mono',consolas,'Courier New',monospace\"><span style=\"color: #7fbfbf; text-decoration-color: #7fbfbf\">                    </span><span style=\"color: #000080; text-decoration-color: #000080\">INFO    </span> ++++ Created <span style=\"color: #008080; text-decoration-color: #008080; font-weight: bold\">11</span> edges <span style=\"font-weight: bold\">(</span>ollie<span style=\"font-weight: bold\">)</span> ++++                                                    \n",
       "</pre>\n"
      ],
      "text/plain": [
       "\u001b[2;36m                   \u001b[0m\u001b[2;36m \u001b[0m\u001b[34mINFO    \u001b[0m ++++ Created \u001b[1;36m11\u001b[0m edges \u001b[1m(\u001b[0mollie\u001b[1m)\u001b[0m ++++                                                    \n"
      ]
     },
     "metadata": {},
     "output_type": "display_data"
    },
    {
     "name": "stderr",
     "output_type": "stream",
     "text": [
      "INFO:netts:++++ Created 11 edges (ollie) ++++\n"
     ]
    },
    {
     "data": {
      "text/html": [
       "<pre style=\"white-space:pre;overflow-x:auto;line-height:normal;font-family:Menlo,'DejaVu Sans Mono',consolas,'Courier New',monospace\"><span style=\"color: #7fbfbf; text-decoration-color: #7fbfbf\">                    </span><span style=\"color: #000080; text-decoration-color: #000080\">INFO    </span>   i | see | man                                                                       \n",
       "</pre>\n"
      ],
      "text/plain": [
       "\u001b[2;36m                   \u001b[0m\u001b[2;36m \u001b[0m\u001b[34mINFO    \u001b[0m   i | see | man                                                                       \n"
      ]
     },
     "metadata": {},
     "output_type": "display_data"
    },
    {
     "name": "stderr",
     "output_type": "stream",
     "text": [
      "INFO:netts:  i | see | man\n"
     ]
    },
    {
     "data": {
      "text/html": [
       "<pre style=\"white-space:pre;overflow-x:auto;line-height:normal;font-family:Menlo,'DejaVu Sans Mono',consolas,'Courier New',monospace\"><span style=\"color: #7fbfbf; text-decoration-color: #7fbfbf\">                    </span><span style=\"color: #000080; text-decoration-color: #000080\">INFO    </span>   he | is wearing | jacket                                                            \n",
       "</pre>\n"
      ],
      "text/plain": [
       "\u001b[2;36m                   \u001b[0m\u001b[2;36m \u001b[0m\u001b[34mINFO    \u001b[0m   he | is wearing | jacket                                                            \n"
      ]
     },
     "metadata": {},
     "output_type": "display_data"
    },
    {
     "name": "stderr",
     "output_type": "stream",
     "text": [
      "INFO:netts:  he | is wearing | jacket\n"
     ]
    },
    {
     "data": {
      "text/html": [
       "<pre style=\"white-space:pre;overflow-x:auto;line-height:normal;font-family:Menlo,'DejaVu Sans Mono',consolas,'Courier New',monospace\"><span style=\"color: #7fbfbf; text-decoration-color: #7fbfbf\">                    </span><span style=\"color: #000080; text-decoration-color: #000080\">INFO    </span>   he | is standing in | dark                                                          \n",
       "</pre>\n"
      ],
      "text/plain": [
       "\u001b[2;36m                   \u001b[0m\u001b[2;36m \u001b[0m\u001b[34mINFO    \u001b[0m   he | is standing in | dark                                                          \n"
      ]
     },
     "metadata": {},
     "output_type": "display_data"
    },
    {
     "name": "stderr",
     "output_type": "stream",
     "text": [
      "INFO:netts:  he | is standing in | dark\n"
     ]
    },
    {
     "data": {
      "text/html": [
       "<pre style=\"white-space:pre;overflow-x:auto;line-height:normal;font-family:Menlo,'DejaVu Sans Mono',consolas,'Courier New',monospace\"><span style=\"color: #7fbfbf; text-decoration-color: #7fbfbf\">                    </span><span style=\"color: #000080; text-decoration-color: #000080\">INFO    </span>   he | is standing against | light post                                               \n",
       "</pre>\n"
      ],
      "text/plain": [
       "\u001b[2;36m                   \u001b[0m\u001b[2;36m \u001b[0m\u001b[34mINFO    \u001b[0m   he | is standing against | light post                                               \n"
      ]
     },
     "metadata": {},
     "output_type": "display_data"
    },
    {
     "name": "stderr",
     "output_type": "stream",
     "text": [
      "INFO:netts:  he | is standing against | light post\n"
     ]
    },
    {
     "data": {
      "text/html": [
       "<pre style=\"white-space:pre;overflow-x:auto;line-height:normal;font-family:Menlo,'DejaVu Sans Mono',consolas,'Courier New',monospace\"><span style=\"color: #7fbfbf; text-decoration-color: #7fbfbf\">                    </span><span style=\"color: #000080; text-decoration-color: #000080\">INFO    </span>   he | is standing against | post                                                     \n",
       "</pre>\n"
      ],
      "text/plain": [
       "\u001b[2;36m                   \u001b[0m\u001b[2;36m \u001b[0m\u001b[34mINFO    \u001b[0m   he | is standing against | post                                                     \n"
      ]
     },
     "metadata": {},
     "output_type": "display_data"
    },
    {
     "name": "stderr",
     "output_type": "stream",
     "text": [
      "INFO:netts:  he | is standing against | post\n"
     ]
    },
    {
     "data": {
      "text/html": [
       "<pre style=\"white-space:pre;overflow-x:auto;line-height:normal;font-family:Menlo,'DejaVu Sans Mono',consolas,'Courier New',monospace\"><span style=\"color: #7fbfbf; text-decoration-color: #7fbfbf\">                    </span><span style=\"color: #000080; text-decoration-color: #000080\">INFO    </span>   man | wear | hat                                                                    \n",
       "</pre>\n"
      ],
      "text/plain": [
       "\u001b[2;36m                   \u001b[0m\u001b[2;36m \u001b[0m\u001b[34mINFO    \u001b[0m   man | wear | hat                                                                    \n"
      ]
     },
     "metadata": {},
     "output_type": "display_data"
    },
    {
     "name": "stderr",
     "output_type": "stream",
     "text": [
      "INFO:netts:  man | wear | hat\n"
     ]
    },
    {
     "data": {
      "text/html": [
       "<pre style=\"white-space:pre;overflow-x:auto;line-height:normal;font-family:Menlo,'DejaVu Sans Mono',consolas,'Courier New',monospace\"><span style=\"color: #7fbfbf; text-decoration-color: #7fbfbf\">                    </span><span style=\"color: #000080; text-decoration-color: #000080\">INFO    </span>   picture | is | very mysterious                                                      \n",
       "</pre>\n"
      ],
      "text/plain": [
       "\u001b[2;36m                   \u001b[0m\u001b[2;36m \u001b[0m\u001b[34mINFO    \u001b[0m   picture | is | very mysterious                                                      \n"
      ]
     },
     "metadata": {},
     "output_type": "display_data"
    },
    {
     "name": "stderr",
     "output_type": "stream",
     "text": [
      "INFO:netts:  picture | is | very mysterious\n"
     ]
    },
    {
     "data": {
      "text/html": [
       "<pre style=\"white-space:pre;overflow-x:auto;line-height:normal;font-family:Menlo,'DejaVu Sans Mono',consolas,'Courier New',monospace\"><span style=\"color: #7fbfbf; text-decoration-color: #7fbfbf\">                    </span><span style=\"color: #000080; text-decoration-color: #000080\">INFO    </span>   picture | is | mysterious                                                           \n",
       "</pre>\n"
      ],
      "text/plain": [
       "\u001b[2;36m                   \u001b[0m\u001b[2;36m \u001b[0m\u001b[34mINFO    \u001b[0m   picture | is | mysterious                                                           \n"
      ]
     },
     "metadata": {},
     "output_type": "display_data"
    },
    {
     "name": "stderr",
     "output_type": "stream",
     "text": [
      "INFO:netts:  picture | is | mysterious\n"
     ]
    },
    {
     "data": {
      "text/html": [
       "<pre style=\"white-space:pre;overflow-x:auto;line-height:normal;font-family:Menlo,'DejaVu Sans Mono',consolas,'Courier New',monospace\"><span style=\"color: #7fbfbf; text-decoration-color: #7fbfbf\">                    </span><span style=\"color: #000080; text-decoration-color: #000080\">INFO    </span> ++++ Created <span style=\"color: #008080; text-decoration-color: #008080; font-weight: bold\">8</span> edges <span style=\"font-weight: bold\">(</span>stanza<span style=\"font-weight: bold\">)</span>.  ++++                                                  \n",
       "</pre>\n"
      ],
      "text/plain": [
       "\u001b[2;36m                   \u001b[0m\u001b[2;36m \u001b[0m\u001b[34mINFO    \u001b[0m ++++ Created \u001b[1;36m8\u001b[0m edges \u001b[1m(\u001b[0mstanza\u001b[1m)\u001b[0m.  ++++                                                  \n"
      ]
     },
     "metadata": {},
     "output_type": "display_data"
    },
    {
     "name": "stderr",
     "output_type": "stream",
     "text": [
      "INFO:netts:++++ Created 8 edges (stanza).  ++++\n"
     ]
    },
    {
     "data": {
      "text/html": [
       "<pre style=\"white-space:pre;overflow-x:auto;line-height:normal;font-family:Menlo,'DejaVu Sans Mono',consolas,'Courier New',monospace\"><span style=\"color: #7fbfbf; text-decoration-color: #7fbfbf\">                    </span><span style=\"color: #000080; text-decoration-color: #000080\">INFO    </span> ++++ Ollie detected <span style=\"color: #008080; text-decoration-color: #008080; font-weight: bold\">11</span> edges, so no stanza edges were added.  ++++                    \n",
       "</pre>\n"
      ],
      "text/plain": [
       "\u001b[2;36m                   \u001b[0m\u001b[2;36m \u001b[0m\u001b[34mINFO    \u001b[0m ++++ Ollie detected \u001b[1;36m11\u001b[0m edges, so no stanza edges were added.  ++++                    \n"
      ]
     },
     "metadata": {},
     "output_type": "display_data"
    },
    {
     "name": "stderr",
     "output_type": "stream",
     "text": [
      "INFO:netts:++++ Ollie detected 11 edges, so no stanza edges were added.  ++++\n"
     ]
    },
    {
     "data": {
      "text/html": [
       "<pre style=\"white-space:pre;overflow-x:auto;line-height:normal;font-family:Menlo,'DejaVu Sans Mono',consolas,'Courier New',monospace\"><span style=\"color: #7fbfbf; text-decoration-color: #7fbfbf\">                    </span><span style=\"color: #000080; text-decoration-color: #000080\">INFO    </span> ++++ Obtained word types ++++                                                         \n",
       "</pre>\n"
      ],
      "text/plain": [
       "\u001b[2;36m                   \u001b[0m\u001b[2;36m \u001b[0m\u001b[34mINFO    \u001b[0m ++++ Obtained word types ++++                                                         \n"
      ]
     },
     "metadata": {},
     "output_type": "display_data"
    },
    {
     "name": "stderr",
     "output_type": "stream",
     "text": [
      "INFO:netts:++++ Obtained word types ++++\n"
     ]
    },
    {
     "data": {
      "text/html": [
       "<pre style=\"white-space:pre;overflow-x:auto;line-height:normal;font-family:Menlo,'DejaVu Sans Mono',consolas,'Courier New',monospace\"><span style=\"color: #7fbfbf; text-decoration-color: #7fbfbf\">                    </span><span style=\"color: #000080; text-decoration-color: #000080\">INFO    </span> ++++ Created <span style=\"color: #008080; text-decoration-color: #008080; font-weight: bold\">0</span> adj edges ++++                                                         \n",
       "</pre>\n"
      ],
      "text/plain": [
       "\u001b[2;36m                   \u001b[0m\u001b[2;36m \u001b[0m\u001b[34mINFO    \u001b[0m ++++ Created \u001b[1;36m0\u001b[0m adj edges ++++                                                         \n"
      ]
     },
     "metadata": {},
     "output_type": "display_data"
    },
    {
     "name": "stderr",
     "output_type": "stream",
     "text": [
      "INFO:netts:++++ Created 0 adj edges ++++\n"
     ]
    },
    {
     "data": {
      "text/html": [
       "<pre style=\"white-space:pre;overflow-x:auto;line-height:normal;font-family:Menlo,'DejaVu Sans Mono',consolas,'Courier New',monospace\"><span style=\"color: #7fbfbf; text-decoration-color: #7fbfbf\">                    </span><span style=\"color: #000080; text-decoration-color: #000080\">INFO    </span>   balls | of | reflections                                                            \n",
       "</pre>\n"
      ],
      "text/plain": [
       "\u001b[2;36m                   \u001b[0m\u001b[2;36m \u001b[0m\u001b[34mINFO    \u001b[0m   balls | of | reflections                                                            \n"
      ]
     },
     "metadata": {},
     "output_type": "display_data"
    },
    {
     "name": "stderr",
     "output_type": "stream",
     "text": [
      "INFO:netts:  balls | of | reflections\n"
     ]
    },
    {
     "data": {
      "text/html": [
       "<pre style=\"white-space:pre;overflow-x:auto;line-height:normal;font-family:Menlo,'DejaVu Sans Mono',consolas,'Courier New',monospace\"><span style=\"color: #7fbfbf; text-decoration-color: #7fbfbf\">                    </span><span style=\"color: #000080; text-decoration-color: #000080\">INFO    </span>   man | on | picture                                                                  \n",
       "</pre>\n"
      ],
      "text/plain": [
       "\u001b[2;36m                   \u001b[0m\u001b[2;36m \u001b[0m\u001b[34mINFO    \u001b[0m   man | on | picture                                                                  \n"
      ]
     },
     "metadata": {},
     "output_type": "display_data"
    },
    {
     "name": "stderr",
     "output_type": "stream",
     "text": [
      "INFO:netts:  man | on | picture\n"
     ]
    },
    {
     "data": {
      "text/html": [
       "<pre style=\"white-space:pre;overflow-x:auto;line-height:normal;font-family:Menlo,'DejaVu Sans Mono',consolas,'Courier New',monospace\"><span style=\"color: #7fbfbf; text-decoration-color: #7fbfbf\">                    </span><span style=\"color: #000080; text-decoration-color: #000080\">INFO    </span>   more | about | picture                                                              \n",
       "</pre>\n"
      ],
      "text/plain": [
       "\u001b[2;36m                   \u001b[0m\u001b[2;36m \u001b[0m\u001b[34mINFO    \u001b[0m   more | about | picture                                                              \n"
      ]
     },
     "metadata": {},
     "output_type": "display_data"
    },
    {
     "name": "stderr",
     "output_type": "stream",
     "text": [
      "INFO:netts:  more | about | picture\n"
     ]
    },
    {
     "data": {
      "text/html": [
       "<pre style=\"white-space:pre;overflow-x:auto;line-height:normal;font-family:Menlo,'DejaVu Sans Mono',consolas,'Courier New',monospace\"><span style=\"color: #7fbfbf; text-decoration-color: #7fbfbf\">                    </span><span style=\"color: #000080; text-decoration-color: #000080\">INFO    </span> ++++ Created <span style=\"color: #008080; text-decoration-color: #008080; font-weight: bold\">3</span> preposition edges ++++                                                 \n",
       "</pre>\n"
      ],
      "text/plain": [
       "\u001b[2;36m                   \u001b[0m\u001b[2;36m \u001b[0m\u001b[34mINFO    \u001b[0m ++++ Created \u001b[1;36m3\u001b[0m preposition edges ++++                                                 \n"
      ]
     },
     "metadata": {},
     "output_type": "display_data"
    },
    {
     "name": "stderr",
     "output_type": "stream",
     "text": [
      "INFO:netts:++++ Created 3 preposition edges ++++\n"
     ]
    },
    {
     "data": {
      "text/html": [
       "<pre style=\"white-space:pre;overflow-x:auto;line-height:normal;font-family:Menlo,'DejaVu Sans Mono',consolas,'Courier New',monospace\"><span style=\"color: #7fbfbf; text-decoration-color: #7fbfbf\">                    </span><span style=\"color: #000080; text-decoration-color: #000080\">INFO    </span>  he | in | dark                                                                       \n",
       "</pre>\n"
      ],
      "text/plain": [
       "\u001b[2;36m                   \u001b[0m\u001b[2;36m \u001b[0m\u001b[34mINFO    \u001b[0m  he | in | dark                                                                       \n"
      ]
     },
     "metadata": {},
     "output_type": "display_data"
    },
    {
     "name": "stderr",
     "output_type": "stream",
     "text": [
      "INFO:netts: he | in | dark\n"
     ]
    },
    {
     "data": {
      "text/html": [
       "<pre style=\"white-space:pre;overflow-x:auto;line-height:normal;font-family:Menlo,'DejaVu Sans Mono',consolas,'Courier New',monospace\"><span style=\"color: #7fbfbf; text-decoration-color: #7fbfbf\">                    </span><span style=\"color: #000080; text-decoration-color: #000080\">INFO    </span>  he | against | post                                                                  \n",
       "</pre>\n"
      ],
      "text/plain": [
       "\u001b[2;36m                   \u001b[0m\u001b[2;36m \u001b[0m\u001b[34mINFO    \u001b[0m  he | against | post                                                                  \n"
      ]
     },
     "metadata": {},
     "output_type": "display_data"
    },
    {
     "name": "stderr",
     "output_type": "stream",
     "text": [
      "INFO:netts: he | against | post\n"
     ]
    },
    {
     "data": {
      "text/html": [
       "<pre style=\"white-space:pre;overflow-x:auto;line-height:normal;font-family:Menlo,'DejaVu Sans Mono',consolas,'Courier New',monospace\"><span style=\"color: #7fbfbf; text-decoration-color: #7fbfbf\">                    </span><span style=\"color: #000080; text-decoration-color: #000080\">INFO    </span>  i | about | it                                                                       \n",
       "</pre>\n"
      ],
      "text/plain": [
       "\u001b[2;36m                   \u001b[0m\u001b[2;36m \u001b[0m\u001b[34mINFO    \u001b[0m  i | about | it                                                                       \n"
      ]
     },
     "metadata": {},
     "output_type": "display_data"
    },
    {
     "name": "stderr",
     "output_type": "stream",
     "text": [
      "INFO:netts: i | about | it\n"
     ]
    },
    {
     "data": {
      "text/html": [
       "<pre style=\"white-space:pre;overflow-x:auto;line-height:normal;font-family:Menlo,'DejaVu Sans Mono',consolas,'Courier New',monospace\"><span style=\"color: #7fbfbf; text-decoration-color: #7fbfbf\">[03/22/23 19:53:18] </span><span style=\"color: #000080; text-decoration-color: #000080\">INFO    </span>  i | for | me                                                                         \n",
       "</pre>\n"
      ],
      "text/plain": [
       "\u001b[2;36m[03/22/23 19:53:18]\u001b[0m\u001b[2;36m \u001b[0m\u001b[34mINFO    \u001b[0m  i | for | me                                                                         \n"
      ]
     },
     "metadata": {},
     "output_type": "display_data"
    },
    {
     "name": "stderr",
     "output_type": "stream",
     "text": [
      "INFO:netts: i | for | me\n"
     ]
    },
    {
     "data": {
      "text/html": [
       "<pre style=\"white-space:pre;overflow-x:auto;line-height:normal;font-family:Menlo,'DejaVu Sans Mono',consolas,'Courier New',monospace\"><span style=\"color: #7fbfbf; text-decoration-color: #7fbfbf\">                    </span><span style=\"color: #000080; text-decoration-color: #000080\">INFO    </span> ++++ Created <span style=\"color: #008080; text-decoration-color: #008080; font-weight: bold\">4</span> oblique edges ++++                                                     \n",
       "</pre>\n"
      ],
      "text/plain": [
       "\u001b[2;36m                   \u001b[0m\u001b[2;36m \u001b[0m\u001b[34mINFO    \u001b[0m ++++ Created \u001b[1;36m4\u001b[0m oblique edges ++++                                                     \n"
      ]
     },
     "metadata": {},
     "output_type": "display_data"
    },
    {
     "name": "stderr",
     "output_type": "stream",
     "text": [
      "INFO:netts:++++ Created 4 oblique edges ++++\n"
     ]
    },
    {
     "data": {
      "text/html": [
       "<pre style=\"white-space:pre;overflow-x:auto;line-height:normal;font-family:Menlo,'DejaVu Sans Mono',consolas,'Courier New',monospace\"><span style=\"color: #7fbfbf; text-decoration-color: #7fbfbf\">                    </span><span style=\"color: #000080; text-decoration-color: #000080\">INFO    </span> ++++ Added <span style=\"color: #008080; text-decoration-color: #008080; font-weight: bold\">4</span> oblique edges. Total edges: <span style=\"color: #008080; text-decoration-color: #008080; font-weight: bold\">11</span> ++++                                      \n",
       "</pre>\n"
      ],
      "text/plain": [
       "\u001b[2;36m                   \u001b[0m\u001b[2;36m \u001b[0m\u001b[34mINFO    \u001b[0m ++++ Added \u001b[1;36m4\u001b[0m oblique edges. Total edges: \u001b[1;36m11\u001b[0m ++++                                      \n"
      ]
     },
     "metadata": {},
     "output_type": "display_data"
    },
    {
     "name": "stderr",
     "output_type": "stream",
     "text": [
      "INFO:netts:++++ Added 4 oblique edges. Total edges: 11 ++++\n"
     ]
    },
    {
     "data": {
      "text/html": [
       "<pre style=\"white-space:pre;overflow-x:auto;line-height:normal;font-family:Menlo,'DejaVu Sans Mono',consolas,'Courier New',monospace\"><span style=\"color: #7fbfbf; text-decoration-color: #7fbfbf\">                    </span><span style=\"color: #000080; text-decoration-color: #000080\">INFO    </span> <span style=\"font-weight: bold\">{</span><span style=\"color: #008000; text-decoration-color: #008000\">'the man on the picture'</span>: <span style=\"font-weight: bold\">[(</span><span style=\"color: #008080; text-decoration-color: #008080; font-weight: bold\">4</span>, <span style=\"color: #008000; text-decoration-color: #008000\">'he'</span><span style=\"font-weight: bold\">)</span>, <span style=\"font-weight: bold\">(</span><span style=\"color: #008080; text-decoration-color: #008080; font-weight: bold\">4</span>, <span style=\"color: #008000; text-decoration-color: #008000\">'the man on the picture'</span><span style=\"font-weight: bold\">)]</span>, <span style=\"color: #008000; text-decoration-color: #008000\">'a man'</span>: <span style=\"font-weight: bold\">[(</span><span style=\"color: #008080; text-decoration-color: #008080; font-weight: bold\">1</span>,  \n",
       "<span style=\"color: #7fbfbf; text-decoration-color: #7fbfbf\">                    </span>         <span style=\"color: #008000; text-decoration-color: #008000\">'he'</span><span style=\"font-weight: bold\">)</span>, <span style=\"font-weight: bold\">(</span><span style=\"color: #008080; text-decoration-color: #008080; font-weight: bold\">0</span>, <span style=\"color: #008000; text-decoration-color: #008000\">'a man'</span><span style=\"font-weight: bold\">)</span>, <span style=\"font-weight: bold\">(</span><span style=\"color: #008080; text-decoration-color: #008080; font-weight: bold\">0</span>, <span style=\"color: #008000; text-decoration-color: #008000\">'he'</span><span style=\"font-weight: bold\">)]</span>, <span style=\"color: #008000; text-decoration-color: #008000\">'the picture'</span>: <span style=\"font-weight: bold\">[(</span><span style=\"color: #008080; text-decoration-color: #008080; font-weight: bold\">5</span>, <span style=\"color: #008000; text-decoration-color: #008000\">'it'</span><span style=\"font-weight: bold\">)</span>, <span style=\"font-weight: bold\">(</span><span style=\"color: #008080; text-decoration-color: #008080; font-weight: bold\">2</span>, <span style=\"color: #008000; text-decoration-color: #008000\">'the picture'</span><span style=\"font-weight: bold\">)]</span>, <span style=\"color: #008000; text-decoration-color: #008000\">'i'</span>: \n",
       "<span style=\"color: #7fbfbf; text-decoration-color: #7fbfbf\">                    </span>         <span style=\"font-weight: bold\">[(</span><span style=\"color: #008080; text-decoration-color: #008080; font-weight: bold\">0</span>, <span style=\"color: #008000; text-decoration-color: #008000\">'i'</span><span style=\"font-weight: bold\">)</span>, <span style=\"font-weight: bold\">(</span><span style=\"color: #008080; text-decoration-color: #008080; font-weight: bold\">3</span>, <span style=\"color: #008000; text-decoration-color: #008000\">'i'</span><span style=\"font-weight: bold\">)</span>, <span style=\"font-weight: bold\">(</span><span style=\"color: #008080; text-decoration-color: #008080; font-weight: bold\">5</span>, <span style=\"color: #008000; text-decoration-color: #008000\">'me'</span><span style=\"font-weight: bold\">)</span>, <span style=\"font-weight: bold\">(</span><span style=\"color: #008080; text-decoration-color: #008080; font-weight: bold\">5</span>, <span style=\"color: #008000; text-decoration-color: #008000\">'i'</span><span style=\"font-weight: bold\">)</span>, <span style=\"font-weight: bold\">(</span><span style=\"color: #008080; text-decoration-color: #008080; font-weight: bold\">5</span>, <span style=\"color: #008000; text-decoration-color: #008000\">'i'</span><span style=\"font-weight: bold\">)]}</span>                                  \n",
       "</pre>\n"
      ],
      "text/plain": [
       "\u001b[2;36m                   \u001b[0m\u001b[2;36m \u001b[0m\u001b[34mINFO    \u001b[0m \u001b[1m{\u001b[0m\u001b[32m'the man on the picture'\u001b[0m: \u001b[1m[\u001b[0m\u001b[1m(\u001b[0m\u001b[1;36m4\u001b[0m, \u001b[32m'he'\u001b[0m\u001b[1m)\u001b[0m, \u001b[1m(\u001b[0m\u001b[1;36m4\u001b[0m, \u001b[32m'the man on the picture'\u001b[0m\u001b[1m)\u001b[0m\u001b[1m]\u001b[0m, \u001b[32m'a man'\u001b[0m: \u001b[1m[\u001b[0m\u001b[1m(\u001b[0m\u001b[1;36m1\u001b[0m,  \n",
       "\u001b[2;36m                    \u001b[0m         \u001b[32m'he'\u001b[0m\u001b[1m)\u001b[0m, \u001b[1m(\u001b[0m\u001b[1;36m0\u001b[0m, \u001b[32m'a man'\u001b[0m\u001b[1m)\u001b[0m, \u001b[1m(\u001b[0m\u001b[1;36m0\u001b[0m, \u001b[32m'he'\u001b[0m\u001b[1m)\u001b[0m\u001b[1m]\u001b[0m, \u001b[32m'the picture'\u001b[0m: \u001b[1m[\u001b[0m\u001b[1m(\u001b[0m\u001b[1;36m5\u001b[0m, \u001b[32m'it'\u001b[0m\u001b[1m)\u001b[0m, \u001b[1m(\u001b[0m\u001b[1;36m2\u001b[0m, \u001b[32m'the picture'\u001b[0m\u001b[1m)\u001b[0m\u001b[1m]\u001b[0m, \u001b[32m'i'\u001b[0m: \n",
       "\u001b[2;36m                    \u001b[0m         \u001b[1m[\u001b[0m\u001b[1m(\u001b[0m\u001b[1;36m0\u001b[0m, \u001b[32m'i'\u001b[0m\u001b[1m)\u001b[0m, \u001b[1m(\u001b[0m\u001b[1;36m3\u001b[0m, \u001b[32m'i'\u001b[0m\u001b[1m)\u001b[0m, \u001b[1m(\u001b[0m\u001b[1;36m5\u001b[0m, \u001b[32m'me'\u001b[0m\u001b[1m)\u001b[0m, \u001b[1m(\u001b[0m\u001b[1;36m5\u001b[0m, \u001b[32m'i'\u001b[0m\u001b[1m)\u001b[0m, \u001b[1m(\u001b[0m\u001b[1;36m5\u001b[0m, \u001b[32m'i'\u001b[0m\u001b[1m)\u001b[0m\u001b[1m]\u001b[0m\u001b[1m}\u001b[0m                                  \n"
      ]
     },
     "metadata": {},
     "output_type": "display_data"
    },
    {
     "name": "stderr",
     "output_type": "stream",
     "text": [
      "INFO:netts:{'the man on the picture': [(4, 'he'), (4, 'the man on the picture')], 'a man': [(1, 'he'), (0, 'a man'), (0, 'he')], 'the picture': [(5, 'it'), (2, 'the picture')], 'i': [(0, 'i'), (3, 'i'), (5, 'me'), (5, 'i'), (5, 'i')]}\n"
     ]
    },
    {
     "data": {
      "text/html": [
       "<pre style=\"white-space:pre;overflow-x:auto;line-height:normal;font-family:Menlo,'DejaVu Sans Mono',consolas,'Courier New',monospace\"><span style=\"color: #7fbfbf; text-decoration-color: #7fbfbf\">                    </span><span style=\"color: #000080; text-decoration-color: #000080\">INFO    </span> ++++ Obtained <span style=\"color: #008080; text-decoration-color: #008080; font-weight: bold\">4</span> node synonyms ++++                                                    \n",
       "</pre>\n"
      ],
      "text/plain": [
       "\u001b[2;36m                   \u001b[0m\u001b[2;36m \u001b[0m\u001b[34mINFO    \u001b[0m ++++ Obtained \u001b[1;36m4\u001b[0m node synonyms ++++                                                    \n"
      ]
     },
     "metadata": {},
     "output_type": "display_data"
    },
    {
     "name": "stderr",
     "output_type": "stream",
     "text": [
      "INFO:netts:++++ Obtained 4 node synonyms ++++\n"
     ]
    },
    {
     "data": {
      "text/html": [
       "<pre style=\"white-space:pre;overflow-x:auto;line-height:normal;font-family:Menlo,'DejaVu Sans Mono',consolas,'Courier New',monospace\"><span style=\"color: #7fbfbf; text-decoration-color: #7fbfbf\">                    </span><span style=\"color: #000080; text-decoration-color: #000080\">INFO    </span> ++++ Split node name synonyms on prepositions. ++++                                   \n",
       "</pre>\n"
      ],
      "text/plain": [
       "\u001b[2;36m                   \u001b[0m\u001b[2;36m \u001b[0m\u001b[34mINFO    \u001b[0m ++++ Split node name synonyms on prepositions. ++++                                   \n"
      ]
     },
     "metadata": {},
     "output_type": "display_data"
    },
    {
     "name": "stderr",
     "output_type": "stream",
     "text": [
      "INFO:netts:++++ Split node name synonyms on prepositions. ++++\n"
     ]
    },
    {
     "data": {
      "text/html": [
       "<pre style=\"white-space:pre;overflow-x:auto;line-height:normal;font-family:Menlo,'DejaVu Sans Mono',consolas,'Courier New',monospace\"><span style=\"color: #7fbfbf; text-decoration-color: #7fbfbf\">                    </span><span style=\"color: #000080; text-decoration-color: #000080\">INFO    </span> the man                 |        on the picture  -- Adding <span style=\"font-weight: bold\">(</span><span style=\"color: #008000; text-decoration-color: #008000\">'man'</span>, <span style=\"color: #008000; text-decoration-color: #008000\">'picture'</span>,         \n",
       "<span style=\"color: #7fbfbf; text-decoration-color: #7fbfbf\">                    </span>         <span style=\"font-weight: bold\">{</span><span style=\"color: #008000; text-decoration-color: #008000\">'relation'</span>: <span style=\"color: #008000; text-decoration-color: #008000\">'on'</span>, <span style=\"color: #008000; text-decoration-color: #008000\">'extractor'</span>: <span style=\"color: #008000; text-decoration-color: #008000\">'preposition'</span>, <span style=\"color: #008000; text-decoration-color: #008000\">'sentence'</span>: <span style=\"color: #008080; text-decoration-color: #008080; font-weight: bold\">4</span><span style=\"font-weight: bold\">})</span>                        \n",
       "</pre>\n"
      ],
      "text/plain": [
       "\u001b[2;36m                   \u001b[0m\u001b[2;36m \u001b[0m\u001b[34mINFO    \u001b[0m the man                 |        on the picture  -- Adding \u001b[1m(\u001b[0m\u001b[32m'man'\u001b[0m, \u001b[32m'picture'\u001b[0m,         \n",
       "\u001b[2;36m                    \u001b[0m         \u001b[1m{\u001b[0m\u001b[32m'relation'\u001b[0m: \u001b[32m'on'\u001b[0m, \u001b[32m'extractor'\u001b[0m: \u001b[32m'preposition'\u001b[0m, \u001b[32m'sentence'\u001b[0m: \u001b[1;36m4\u001b[0m\u001b[1m}\u001b[0m\u001b[1m)\u001b[0m                        \n"
      ]
     },
     "metadata": {},
     "output_type": "display_data"
    },
    {
     "name": "stderr",
     "output_type": "stream",
     "text": [
      "INFO:netts:the man \t\t|\t on the picture  -- Adding ('man', 'picture', {'relation': 'on', 'extractor': 'preposition', 'sentence': 4})\n"
     ]
    },
    {
     "data": {
      "text/html": [
       "<pre style=\"white-space:pre;overflow-x:auto;line-height:normal;font-family:Menlo,'DejaVu Sans Mono',consolas,'Courier New',monospace\"><span style=\"color: #7fbfbf; text-decoration-color: #7fbfbf\">                    </span><span style=\"color: #000080; text-decoration-color: #000080\">INFO    </span> ++++ Split nodes on prepositions. ++++                                                \n",
       "</pre>\n"
      ],
      "text/plain": [
       "\u001b[2;36m                   \u001b[0m\u001b[2;36m \u001b[0m\u001b[34mINFO    \u001b[0m ++++ Split nodes on prepositions. ++++                                                \n"
      ]
     },
     "metadata": {},
     "output_type": "display_data"
    },
    {
     "name": "stderr",
     "output_type": "stream",
     "text": [
      "INFO:netts:++++ Split nodes on prepositions. ++++\n"
     ]
    },
    {
     "data": {
      "text/html": [
       "<pre style=\"white-space:pre;overflow-x:auto;line-height:normal;font-family:Menlo,'DejaVu Sans Mono',consolas,'Courier New',monospace\"><span style=\"color: #7fbfbf; text-decoration-color: #7fbfbf\">                    </span><span style=\"color: #000080; text-decoration-color: #000080\">INFO    </span> Replaced <span style=\"color: #008000; text-decoration-color: #008000\">'he'</span> with <span style=\"color: #008000; text-decoration-color: #008000\">'a man'</span> in <span style=\"font-weight: bold\">(</span><span style=\"color: #008000; text-decoration-color: #008000\">'he'</span>, <span style=\"color: #008000; text-decoration-color: #008000\">'a jacket'</span><span style=\"font-weight: bold\">)</span>                                      \n",
       "</pre>\n"
      ],
      "text/plain": [
       "\u001b[2;36m                   \u001b[0m\u001b[2;36m \u001b[0m\u001b[34mINFO    \u001b[0m Replaced \u001b[32m'he'\u001b[0m with \u001b[32m'a man'\u001b[0m in \u001b[1m(\u001b[0m\u001b[32m'he'\u001b[0m, \u001b[32m'a jacket'\u001b[0m\u001b[1m)\u001b[0m                                      \n"
      ]
     },
     "metadata": {},
     "output_type": "display_data"
    },
    {
     "name": "stderr",
     "output_type": "stream",
     "text": [
      "INFO:netts:Replaced 'he' with 'a man' in ('he', 'a jacket')\n"
     ]
    },
    {
     "data": {
      "text/html": [
       "<pre style=\"white-space:pre;overflow-x:auto;line-height:normal;font-family:Menlo,'DejaVu Sans Mono',consolas,'Courier New',monospace\"><span style=\"color: #7fbfbf; text-decoration-color: #7fbfbf\">                    </span><span style=\"color: #000080; text-decoration-color: #000080\">INFO    </span> Replaced <span style=\"color: #008000; text-decoration-color: #008000\">'i'</span> with <span style=\"color: #008000; text-decoration-color: #008000\">'i'</span> in <span style=\"font-weight: bold\">(</span><span style=\"color: #008000; text-decoration-color: #008000\">'i'</span>, <span style=\"color: #008000; text-decoration-color: #008000\">'a man'</span><span style=\"font-weight: bold\">)</span>                                               \n",
       "</pre>\n"
      ],
      "text/plain": [
       "\u001b[2;36m                   \u001b[0m\u001b[2;36m \u001b[0m\u001b[34mINFO    \u001b[0m Replaced \u001b[32m'i'\u001b[0m with \u001b[32m'i'\u001b[0m in \u001b[1m(\u001b[0m\u001b[32m'i'\u001b[0m, \u001b[32m'a man'\u001b[0m\u001b[1m)\u001b[0m                                               \n"
      ]
     },
     "metadata": {},
     "output_type": "display_data"
    },
    {
     "name": "stderr",
     "output_type": "stream",
     "text": [
      "INFO:netts:Replaced 'i' with 'i' in ('i', 'a man')\n"
     ]
    },
    {
     "data": {
      "text/html": [
       "<pre style=\"white-space:pre;overflow-x:auto;line-height:normal;font-family:Menlo,'DejaVu Sans Mono',consolas,'Courier New',monospace\"><span style=\"color: #7fbfbf; text-decoration-color: #7fbfbf\">                    </span><span style=\"color: #000080; text-decoration-color: #000080\">INFO    </span> Replaced <span style=\"color: #008000; text-decoration-color: #008000\">'i'</span> with <span style=\"color: #008000; text-decoration-color: #008000\">'i'</span> in <span style=\"font-weight: bold\">(</span><span style=\"color: #008000; text-decoration-color: #008000\">'i'</span>, <span style=\"color: #008000; text-decoration-color: #008000\">'a man'</span><span style=\"font-weight: bold\">)</span>                                               \n",
       "</pre>\n"
      ],
      "text/plain": [
       "\u001b[2;36m                   \u001b[0m\u001b[2;36m \u001b[0m\u001b[34mINFO    \u001b[0m Replaced \u001b[32m'i'\u001b[0m with \u001b[32m'i'\u001b[0m in \u001b[1m(\u001b[0m\u001b[32m'i'\u001b[0m, \u001b[32m'a man'\u001b[0m\u001b[1m)\u001b[0m                                               \n"
      ]
     },
     "metadata": {},
     "output_type": "display_data"
    },
    {
     "name": "stderr",
     "output_type": "stream",
     "text": [
      "INFO:netts:Replaced 'i' with 'i' in ('i', 'a man')\n"
     ]
    },
    {
     "data": {
      "text/html": [
       "<pre style=\"white-space:pre;overflow-x:auto;line-height:normal;font-family:Menlo,'DejaVu Sans Mono',consolas,'Courier New',monospace\"><span style=\"color: #7fbfbf; text-decoration-color: #7fbfbf\">                    </span><span style=\"color: #000080; text-decoration-color: #000080\">INFO    </span> Replaced <span style=\"color: #008000; text-decoration-color: #008000\">'a man'</span> with <span style=\"color: #008000; text-decoration-color: #008000\">'a man'</span> in <span style=\"font-weight: bold\">(</span><span style=\"color: #008000; text-decoration-color: #008000\">'i'</span>, <span style=\"color: #008000; text-decoration-color: #008000\">'a man'</span><span style=\"font-weight: bold\">)</span>                                       \n",
       "</pre>\n"
      ],
      "text/plain": [
       "\u001b[2;36m                   \u001b[0m\u001b[2;36m \u001b[0m\u001b[34mINFO    \u001b[0m Replaced \u001b[32m'a man'\u001b[0m with \u001b[32m'a man'\u001b[0m in \u001b[1m(\u001b[0m\u001b[32m'i'\u001b[0m, \u001b[32m'a man'\u001b[0m\u001b[1m)\u001b[0m                                       \n"
      ]
     },
     "metadata": {},
     "output_type": "display_data"
    },
    {
     "name": "stderr",
     "output_type": "stream",
     "text": [
      "INFO:netts:Replaced 'a man' with 'a man' in ('i', 'a man')\n"
     ]
    },
    {
     "data": {
      "text/html": [
       "<pre style=\"white-space:pre;overflow-x:auto;line-height:normal;font-family:Menlo,'DejaVu Sans Mono',consolas,'Courier New',monospace\"><span style=\"color: #7fbfbf; text-decoration-color: #7fbfbf\">                    </span><span style=\"color: #000080; text-decoration-color: #000080\">INFO    </span> Replaced <span style=\"color: #008000; text-decoration-color: #008000\">'he'</span> with <span style=\"color: #008000; text-decoration-color: #008000\">'a man'</span> in <span style=\"font-weight: bold\">(</span><span style=\"color: #008000; text-decoration-color: #008000\">'he'</span>, <span style=\"color: #008000; text-decoration-color: #008000\">'in the dark'</span><span style=\"font-weight: bold\">)</span>                                   \n",
       "</pre>\n"
      ],
      "text/plain": [
       "\u001b[2;36m                   \u001b[0m\u001b[2;36m \u001b[0m\u001b[34mINFO    \u001b[0m Replaced \u001b[32m'he'\u001b[0m with \u001b[32m'a man'\u001b[0m in \u001b[1m(\u001b[0m\u001b[32m'he'\u001b[0m, \u001b[32m'in the dark'\u001b[0m\u001b[1m)\u001b[0m                                   \n"
      ]
     },
     "metadata": {},
     "output_type": "display_data"
    },
    {
     "name": "stderr",
     "output_type": "stream",
     "text": [
      "INFO:netts:Replaced 'he' with 'a man' in ('he', 'in the dark')\n"
     ]
    },
    {
     "data": {
      "text/html": [
       "<pre style=\"white-space:pre;overflow-x:auto;line-height:normal;font-family:Menlo,'DejaVu Sans Mono',consolas,'Courier New',monospace\"><span style=\"color: #7fbfbf; text-decoration-color: #7fbfbf\">                    </span><span style=\"color: #000080; text-decoration-color: #000080\">INFO    </span> Replaced <span style=\"color: #008000; text-decoration-color: #008000\">'on the picture'</span> with <span style=\"color: #008000; text-decoration-color: #008000\">'the picture'</span> in <span style=\"font-weight: bold\">(</span><span style=\"color: #008000; text-decoration-color: #008000\">'there'</span>, <span style=\"color: #008000; text-decoration-color: #008000\">'on the picture'</span><span style=\"font-weight: bold\">)</span>           \n",
       "</pre>\n"
      ],
      "text/plain": [
       "\u001b[2;36m                   \u001b[0m\u001b[2;36m \u001b[0m\u001b[34mINFO    \u001b[0m Replaced \u001b[32m'on the picture'\u001b[0m with \u001b[32m'the picture'\u001b[0m in \u001b[1m(\u001b[0m\u001b[32m'there'\u001b[0m, \u001b[32m'on the picture'\u001b[0m\u001b[1m)\u001b[0m           \n"
      ]
     },
     "metadata": {},
     "output_type": "display_data"
    },
    {
     "name": "stderr",
     "output_type": "stream",
     "text": [
      "INFO:netts:Replaced 'on the picture' with 'the picture' in ('there', 'on the picture')\n"
     ]
    },
    {
     "data": {
      "text/html": [
       "<pre style=\"white-space:pre;overflow-x:auto;line-height:normal;font-family:Menlo,'DejaVu Sans Mono',consolas,'Courier New',monospace\"><span style=\"color: #7fbfbf; text-decoration-color: #7fbfbf\">                    </span><span style=\"color: #000080; text-decoration-color: #000080\">INFO    </span> Replaced <span style=\"color: #008000; text-decoration-color: #008000\">'i'</span> with <span style=\"color: #008000; text-decoration-color: #008000\">'i'</span> in <span style=\"font-weight: bold\">(</span><span style=\"color: #008000; text-decoration-color: #008000\">'i'</span>, <span style=\"color: #008000; text-decoration-color: #008000\">'the ... anything else'</span><span style=\"font-weight: bold\">)</span>                               \n",
       "</pre>\n"
      ],
      "text/plain": [
       "\u001b[2;36m                   \u001b[0m\u001b[2;36m \u001b[0m\u001b[34mINFO    \u001b[0m Replaced \u001b[32m'i'\u001b[0m with \u001b[32m'i'\u001b[0m in \u001b[1m(\u001b[0m\u001b[32m'i'\u001b[0m, \u001b[32m'the ... anything else'\u001b[0m\u001b[1m)\u001b[0m                               \n"
      ]
     },
     "metadata": {},
     "output_type": "display_data"
    },
    {
     "name": "stderr",
     "output_type": "stream",
     "text": [
      "INFO:netts:Replaced 'i' with 'i' in ('i', 'the ... anything else')\n"
     ]
    },
    {
     "data": {
      "text/html": [
       "<pre style=\"white-space:pre;overflow-x:auto;line-height:normal;font-family:Menlo,'DejaVu Sans Mono',consolas,'Courier New',monospace\"><span style=\"color: #7fbfbf; text-decoration-color: #7fbfbf\">                    </span><span style=\"color: #000080; text-decoration-color: #000080\">INFO    </span> Replaced <span style=\"color: #008000; text-decoration-color: #008000\">'i'</span> with <span style=\"color: #008000; text-decoration-color: #008000\">'i'</span> in <span style=\"font-weight: bold\">(</span><span style=\"color: #008000; text-decoration-color: #008000\">'i'</span>, <span style=\"color: #008000; text-decoration-color: #008000\">'the ... anything else'</span><span style=\"font-weight: bold\">)</span>                               \n",
       "</pre>\n"
      ],
      "text/plain": [
       "\u001b[2;36m                   \u001b[0m\u001b[2;36m \u001b[0m\u001b[34mINFO    \u001b[0m Replaced \u001b[32m'i'\u001b[0m with \u001b[32m'i'\u001b[0m in \u001b[1m(\u001b[0m\u001b[32m'i'\u001b[0m, \u001b[32m'the ... anything else'\u001b[0m\u001b[1m)\u001b[0m                               \n"
      ]
     },
     "metadata": {},
     "output_type": "display_data"
    },
    {
     "name": "stderr",
     "output_type": "stream",
     "text": [
      "INFO:netts:Replaced 'i' with 'i' in ('i', 'the ... anything else')\n"
     ]
    },
    {
     "data": {
      "text/html": [
       "<pre style=\"white-space:pre;overflow-x:auto;line-height:normal;font-family:Menlo,'DejaVu Sans Mono',consolas,'Courier New',monospace\"><span style=\"color: #7fbfbf; text-decoration-color: #7fbfbf\">                    </span><span style=\"color: #000080; text-decoration-color: #000080\">INFO    </span> Replaced <span style=\"color: #008000; text-decoration-color: #008000\">'he'</span> with <span style=\"color: #008000; text-decoration-color: #008000\">'the man'</span> in <span style=\"font-weight: bold\">(</span><span style=\"color: #008000; text-decoration-color: #008000\">'he'</span>, <span style=\"color: #008000; text-decoration-color: #008000\">'a hoodie on'</span><span style=\"font-weight: bold\">)</span>                                 \n",
       "</pre>\n"
      ],
      "text/plain": [
       "\u001b[2;36m                   \u001b[0m\u001b[2;36m \u001b[0m\u001b[34mINFO    \u001b[0m Replaced \u001b[32m'he'\u001b[0m with \u001b[32m'the man'\u001b[0m in \u001b[1m(\u001b[0m\u001b[32m'he'\u001b[0m, \u001b[32m'a hoodie on'\u001b[0m\u001b[1m)\u001b[0m                                 \n"
      ]
     },
     "metadata": {},
     "output_type": "display_data"
    },
    {
     "name": "stderr",
     "output_type": "stream",
     "text": [
      "INFO:netts:Replaced 'he' with 'the man' in ('he', 'a hoodie on')\n"
     ]
    },
    {
     "data": {
      "text/html": [
       "<pre style=\"white-space:pre;overflow-x:auto;line-height:normal;font-family:Menlo,'DejaVu Sans Mono',consolas,'Courier New',monospace\"><span style=\"color: #7fbfbf; text-decoration-color: #7fbfbf\">                    </span><span style=\"color: #000080; text-decoration-color: #000080\">INFO    </span> Replaced <span style=\"color: #008000; text-decoration-color: #008000\">'the man'</span> with <span style=\"color: #008000; text-decoration-color: #008000\">'the man'</span> in <span style=\"font-weight: bold\">(</span><span style=\"color: #008000; text-decoration-color: #008000\">'the man'</span>, <span style=\"color: #008000; text-decoration-color: #008000\">'a hat'</span><span style=\"font-weight: bold\">)</span>                             \n",
       "</pre>\n"
      ],
      "text/plain": [
       "\u001b[2;36m                   \u001b[0m\u001b[2;36m \u001b[0m\u001b[34mINFO    \u001b[0m Replaced \u001b[32m'the man'\u001b[0m with \u001b[32m'the man'\u001b[0m in \u001b[1m(\u001b[0m\u001b[32m'the man'\u001b[0m, \u001b[32m'a hat'\u001b[0m\u001b[1m)\u001b[0m                             \n"
      ]
     },
     "metadata": {},
     "output_type": "display_data"
    },
    {
     "name": "stderr",
     "output_type": "stream",
     "text": [
      "INFO:netts:Replaced 'the man' with 'the man' in ('the man', 'a hat')\n"
     ]
    },
    {
     "data": {
      "text/html": [
       "<pre style=\"white-space:pre;overflow-x:auto;line-height:normal;font-family:Menlo,'DejaVu Sans Mono',consolas,'Courier New',monospace\"><span style=\"color: #7fbfbf; text-decoration-color: #7fbfbf\">                    </span><span style=\"color: #000080; text-decoration-color: #000080\">INFO    </span> Replaced <span style=\"color: #008000; text-decoration-color: #008000\">'i'</span> with <span style=\"color: #008000; text-decoration-color: #008000\">'i'</span> in <span style=\"font-weight: bold\">(</span><span style=\"color: #008000; text-decoration-color: #008000\">'i'</span>, <span style=\"color: #008000; text-decoration-color: #008000\">'more about the picture'</span><span style=\"font-weight: bold\">)</span>                              \n",
       "</pre>\n"
      ],
      "text/plain": [
       "\u001b[2;36m                   \u001b[0m\u001b[2;36m \u001b[0m\u001b[34mINFO    \u001b[0m Replaced \u001b[32m'i'\u001b[0m with \u001b[32m'i'\u001b[0m in \u001b[1m(\u001b[0m\u001b[32m'i'\u001b[0m, \u001b[32m'more about the picture'\u001b[0m\u001b[1m)\u001b[0m                              \n"
      ]
     },
     "metadata": {},
     "output_type": "display_data"
    },
    {
     "name": "stderr",
     "output_type": "stream",
     "text": [
      "INFO:netts:Replaced 'i' with 'i' in ('i', 'more about the picture')\n"
     ]
    },
    {
     "data": {
      "text/html": [
       "<pre style=\"white-space:pre;overflow-x:auto;line-height:normal;font-family:Menlo,'DejaVu Sans Mono',consolas,'Courier New',monospace\"><span style=\"color: #7fbfbf; text-decoration-color: #7fbfbf\">                    </span><span style=\"color: #000080; text-decoration-color: #000080\">INFO    </span> Replaced <span style=\"color: #008000; text-decoration-color: #008000\">'i'</span> with <span style=\"color: #008000; text-decoration-color: #008000\">'i'</span> in <span style=\"font-weight: bold\">(</span><span style=\"color: #008000; text-decoration-color: #008000\">'i'</span>, <span style=\"color: #008000; text-decoration-color: #008000\">'more about the picture'</span><span style=\"font-weight: bold\">)</span>                              \n",
       "</pre>\n"
      ],
      "text/plain": [
       "\u001b[2;36m                   \u001b[0m\u001b[2;36m \u001b[0m\u001b[34mINFO    \u001b[0m Replaced \u001b[32m'i'\u001b[0m with \u001b[32m'i'\u001b[0m in \u001b[1m(\u001b[0m\u001b[32m'i'\u001b[0m, \u001b[32m'more about the picture'\u001b[0m\u001b[1m)\u001b[0m                              \n"
      ]
     },
     "metadata": {},
     "output_type": "display_data"
    },
    {
     "name": "stderr",
     "output_type": "stream",
     "text": [
      "INFO:netts:Replaced 'i' with 'i' in ('i', 'more about the picture')\n"
     ]
    },
    {
     "data": {
      "text/html": [
       "<pre style=\"white-space:pre;overflow-x:auto;line-height:normal;font-family:Menlo,'DejaVu Sans Mono',consolas,'Courier New',monospace\"><span style=\"color: #7fbfbf; text-decoration-color: #7fbfbf\">                    </span><span style=\"color: #000080; text-decoration-color: #000080\">INFO    </span> Replaced <span style=\"color: #008000; text-decoration-color: #008000\">'i'</span> with <span style=\"color: #008000; text-decoration-color: #008000\">'i'</span> in <span style=\"font-weight: bold\">(</span><span style=\"color: #008000; text-decoration-color: #008000\">'i'</span>, <span style=\"color: #008000; text-decoration-color: #008000\">'more about the picture'</span><span style=\"font-weight: bold\">)</span>                              \n",
       "</pre>\n"
      ],
      "text/plain": [
       "\u001b[2;36m                   \u001b[0m\u001b[2;36m \u001b[0m\u001b[34mINFO    \u001b[0m Replaced \u001b[32m'i'\u001b[0m with \u001b[32m'i'\u001b[0m in \u001b[1m(\u001b[0m\u001b[32m'i'\u001b[0m, \u001b[32m'more about the picture'\u001b[0m\u001b[1m)\u001b[0m                              \n"
      ]
     },
     "metadata": {},
     "output_type": "display_data"
    },
    {
     "name": "stderr",
     "output_type": "stream",
     "text": [
      "INFO:netts:Replaced 'i' with 'i' in ('i', 'more about the picture')\n"
     ]
    },
    {
     "data": {
      "text/html": [
       "<pre style=\"white-space:pre;overflow-x:auto;line-height:normal;font-family:Menlo,'DejaVu Sans Mono',consolas,'Courier New',monospace\"><span style=\"color: #7fbfbf; text-decoration-color: #7fbfbf\">                    </span><span style=\"color: #000080; text-decoration-color: #000080\">INFO    </span> Replaced <span style=\"color: #008000; text-decoration-color: #008000\">'i'</span> with <span style=\"color: #008000; text-decoration-color: #008000\">'i'</span> in <span style=\"font-weight: bold\">(</span><span style=\"color: #008000; text-decoration-color: #008000\">'i'</span>, <span style=\"color: #008000; text-decoration-color: #008000\">'about it'</span><span style=\"font-weight: bold\">)</span>                                            \n",
       "</pre>\n"
      ],
      "text/plain": [
       "\u001b[2;36m                   \u001b[0m\u001b[2;36m \u001b[0m\u001b[34mINFO    \u001b[0m Replaced \u001b[32m'i'\u001b[0m with \u001b[32m'i'\u001b[0m in \u001b[1m(\u001b[0m\u001b[32m'i'\u001b[0m, \u001b[32m'about it'\u001b[0m\u001b[1m)\u001b[0m                                            \n"
      ]
     },
     "metadata": {},
     "output_type": "display_data"
    },
    {
     "name": "stderr",
     "output_type": "stream",
     "text": [
      "INFO:netts:Replaced 'i' with 'i' in ('i', 'about it')\n"
     ]
    },
    {
     "data": {
      "text/html": [
       "<pre style=\"white-space:pre;overflow-x:auto;line-height:normal;font-family:Menlo,'DejaVu Sans Mono',consolas,'Courier New',monospace\"><span style=\"color: #7fbfbf; text-decoration-color: #7fbfbf\">                    </span><span style=\"color: #000080; text-decoration-color: #000080\">INFO    </span> Replaced <span style=\"color: #008000; text-decoration-color: #008000\">'i'</span> with <span style=\"color: #008000; text-decoration-color: #008000\">'i'</span> in <span style=\"font-weight: bold\">(</span><span style=\"color: #008000; text-decoration-color: #008000\">'i'</span>, <span style=\"color: #008000; text-decoration-color: #008000\">'about it'</span><span style=\"font-weight: bold\">)</span>                                            \n",
       "</pre>\n"
      ],
      "text/plain": [
       "\u001b[2;36m                   \u001b[0m\u001b[2;36m \u001b[0m\u001b[34mINFO    \u001b[0m Replaced \u001b[32m'i'\u001b[0m with \u001b[32m'i'\u001b[0m in \u001b[1m(\u001b[0m\u001b[32m'i'\u001b[0m, \u001b[32m'about it'\u001b[0m\u001b[1m)\u001b[0m                                            \n"
      ]
     },
     "metadata": {},
     "output_type": "display_data"
    },
    {
     "name": "stderr",
     "output_type": "stream",
     "text": [
      "INFO:netts:Replaced 'i' with 'i' in ('i', 'about it')\n"
     ]
    },
    {
     "data": {
      "text/html": [
       "<pre style=\"white-space:pre;overflow-x:auto;line-height:normal;font-family:Menlo,'DejaVu Sans Mono',consolas,'Courier New',monospace\"><span style=\"color: #7fbfbf; text-decoration-color: #7fbfbf\">                    </span><span style=\"color: #000080; text-decoration-color: #000080\">INFO    </span> Replaced <span style=\"color: #008000; text-decoration-color: #008000\">'i'</span> with <span style=\"color: #008000; text-decoration-color: #008000\">'i'</span> in <span style=\"font-weight: bold\">(</span><span style=\"color: #008000; text-decoration-color: #008000\">'i'</span>, <span style=\"color: #008000; text-decoration-color: #008000\">'about it'</span><span style=\"font-weight: bold\">)</span>                                            \n",
       "</pre>\n"
      ],
      "text/plain": [
       "\u001b[2;36m                   \u001b[0m\u001b[2;36m \u001b[0m\u001b[34mINFO    \u001b[0m Replaced \u001b[32m'i'\u001b[0m with \u001b[32m'i'\u001b[0m in \u001b[1m(\u001b[0m\u001b[32m'i'\u001b[0m, \u001b[32m'about it'\u001b[0m\u001b[1m)\u001b[0m                                            \n"
      ]
     },
     "metadata": {},
     "output_type": "display_data"
    },
    {
     "name": "stderr",
     "output_type": "stream",
     "text": [
      "INFO:netts:Replaced 'i' with 'i' in ('i', 'about it')\n"
     ]
    },
    {
     "data": {
      "text/html": [
       "<pre style=\"white-space:pre;overflow-x:auto;line-height:normal;font-family:Menlo,'DejaVu Sans Mono',consolas,'Courier New',monospace\"><span style=\"color: #7fbfbf; text-decoration-color: #7fbfbf\">                    </span><span style=\"color: #000080; text-decoration-color: #000080\">INFO    </span> Replaced <span style=\"color: #008000; text-decoration-color: #008000\">'about it'</span> with <span style=\"color: #008000; text-decoration-color: #008000\">'the picture'</span> in <span style=\"font-weight: bold\">(</span><span style=\"color: #008000; text-decoration-color: #008000\">'i'</span>, <span style=\"color: #008000; text-decoration-color: #008000\">'about it'</span><span style=\"font-weight: bold\">)</span>                           \n",
       "</pre>\n"
      ],
      "text/plain": [
       "\u001b[2;36m                   \u001b[0m\u001b[2;36m \u001b[0m\u001b[34mINFO    \u001b[0m Replaced \u001b[32m'about it'\u001b[0m with \u001b[32m'the picture'\u001b[0m in \u001b[1m(\u001b[0m\u001b[32m'i'\u001b[0m, \u001b[32m'about it'\u001b[0m\u001b[1m)\u001b[0m                           \n"
      ]
     },
     "metadata": {},
     "output_type": "display_data"
    },
    {
     "name": "stderr",
     "output_type": "stream",
     "text": [
      "INFO:netts:Replaced 'about it' with 'the picture' in ('i', 'about it')\n"
     ]
    },
    {
     "data": {
      "text/html": [
       "<pre style=\"white-space:pre;overflow-x:auto;line-height:normal;font-family:Menlo,'DejaVu Sans Mono',consolas,'Courier New',monospace\"><span style=\"color: #7fbfbf; text-decoration-color: #7fbfbf\">                    </span><span style=\"color: #000080; text-decoration-color: #000080\">INFO    </span> Replaced <span style=\"color: #008000; text-decoration-color: #008000\">'man'</span> with <span style=\"color: #008000; text-decoration-color: #008000\">'the man'</span> in <span style=\"font-weight: bold\">(</span><span style=\"color: #008000; text-decoration-color: #008000\">'man'</span>, <span style=\"color: #008000; text-decoration-color: #008000\">'picture'</span><span style=\"font-weight: bold\">)</span>                                   \n",
       "</pre>\n"
      ],
      "text/plain": [
       "\u001b[2;36m                   \u001b[0m\u001b[2;36m \u001b[0m\u001b[34mINFO    \u001b[0m Replaced \u001b[32m'man'\u001b[0m with \u001b[32m'the man'\u001b[0m in \u001b[1m(\u001b[0m\u001b[32m'man'\u001b[0m, \u001b[32m'picture'\u001b[0m\u001b[1m)\u001b[0m                                   \n"
      ]
     },
     "metadata": {},
     "output_type": "display_data"
    },
    {
     "name": "stderr",
     "output_type": "stream",
     "text": [
      "INFO:netts:Replaced 'man' with 'the man' in ('man', 'picture')\n"
     ]
    },
    {
     "data": {
      "text/html": [
       "<pre style=\"white-space:pre;overflow-x:auto;line-height:normal;font-family:Menlo,'DejaVu Sans Mono',consolas,'Courier New',monospace\"><span style=\"color: #7fbfbf; text-decoration-color: #7fbfbf\">                    </span><span style=\"color: #000080; text-decoration-color: #000080\">INFO    </span> ++++ Merged nodes that are referenced several times. ++++                             \n",
       "</pre>\n"
      ],
      "text/plain": [
       "\u001b[2;36m                   \u001b[0m\u001b[2;36m \u001b[0m\u001b[34mINFO    \u001b[0m ++++ Merged nodes that are referenced several times. ++++                             \n"
      ]
     },
     "metadata": {},
     "output_type": "display_data"
    },
    {
     "name": "stderr",
     "output_type": "stream",
     "text": [
      "INFO:netts:++++ Merged nodes that are referenced several times. ++++\n"
     ]
    },
    {
     "data": {
      "text/html": [
       "<pre style=\"white-space:pre;overflow-x:auto;line-height:normal;font-family:Menlo,'DejaVu Sans Mono',consolas,'Courier New',monospace\"><span style=\"color: #7fbfbf; text-decoration-color: #7fbfbf\">                    </span><span style=\"color: #000080; text-decoration-color: #000080\">INFO    </span> Replaced <span style=\"color: #008000; text-decoration-color: #008000\">'man'</span> with <span style=\"color: #008000; text-decoration-color: #008000\">'the man'</span> in <span style=\"font-weight: bold\">(</span><span style=\"color: #008000; text-decoration-color: #008000\">'man'</span>, <span style=\"color: #008000; text-decoration-color: #008000\">'picture'</span><span style=\"font-weight: bold\">)</span>                                   \n",
       "</pre>\n"
      ],
      "text/plain": [
       "\u001b[2;36m                   \u001b[0m\u001b[2;36m \u001b[0m\u001b[34mINFO    \u001b[0m Replaced \u001b[32m'man'\u001b[0m with \u001b[32m'the man'\u001b[0m in \u001b[1m(\u001b[0m\u001b[32m'man'\u001b[0m, \u001b[32m'picture'\u001b[0m\u001b[1m)\u001b[0m                                   \n"
      ]
     },
     "metadata": {},
     "output_type": "display_data"
    },
    {
     "name": "stderr",
     "output_type": "stream",
     "text": [
      "INFO:netts:Replaced 'man' with 'the man' in ('man', 'picture')\n"
     ]
    },
    {
     "data": {
      "text/html": [
       "<pre style=\"white-space:pre;overflow-x:auto;line-height:normal;font-family:Menlo,'DejaVu Sans Mono',consolas,'Courier New',monospace\"><span style=\"color: #7fbfbf; text-decoration-color: #7fbfbf\">                    </span><span style=\"color: #000080; text-decoration-color: #000080\">INFO    </span> ++++ Merged nodes that are referenced several times. ++++                             \n",
       "</pre>\n"
      ],
      "text/plain": [
       "\u001b[2;36m                   \u001b[0m\u001b[2;36m \u001b[0m\u001b[34mINFO    \u001b[0m ++++ Merged nodes that are referenced several times. ++++                             \n"
      ]
     },
     "metadata": {},
     "output_type": "display_data"
    },
    {
     "name": "stderr",
     "output_type": "stream",
     "text": [
      "INFO:netts:++++ Merged nodes that are referenced several times. ++++\n"
     ]
    },
    {
     "data": {
      "text/html": [
       "<pre style=\"white-space:pre;overflow-x:auto;line-height:normal;font-family:Menlo,'DejaVu Sans Mono',consolas,'Courier New',monospace\"><span style=\"color: #7fbfbf; text-decoration-color: #7fbfbf\">                    </span><span style=\"color: #000080; text-decoration-color: #000080\">INFO    </span> ++++ Merged nodes that are referenced several times. ++++                             \n",
       "</pre>\n"
      ],
      "text/plain": [
       "\u001b[2;36m                   \u001b[0m\u001b[2;36m \u001b[0m\u001b[34mINFO    \u001b[0m ++++ Merged nodes that are referenced several times. ++++                             \n"
      ]
     },
     "metadata": {},
     "output_type": "display_data"
    },
    {
     "name": "stderr",
     "output_type": "stream",
     "text": [
      "INFO:netts:++++ Merged nodes that are referenced several times. ++++\n"
     ]
    },
    {
     "data": {
      "text/html": [
       "<pre style=\"white-space:pre;overflow-x:auto;line-height:normal;font-family:Menlo,'DejaVu Sans Mono',consolas,'Courier New',monospace\"><span style=\"color: #7fbfbf; text-decoration-color: #7fbfbf\">                    </span><span style=\"color: #000080; text-decoration-color: #000080\">INFO    </span> Replaced <span style=\"color: #008000; text-decoration-color: #008000\">'he'</span> with <span style=\"color: #008000; text-decoration-color: #008000\">'a man'</span> in <span style=\"font-weight: bold\">(</span><span style=\"color: #008000; text-decoration-color: #008000\">'he'</span>, <span style=\"color: #008000; text-decoration-color: #008000\">'dark'</span><span style=\"font-weight: bold\">)</span>                                          \n",
       "</pre>\n"
      ],
      "text/plain": [
       "\u001b[2;36m                   \u001b[0m\u001b[2;36m \u001b[0m\u001b[34mINFO    \u001b[0m Replaced \u001b[32m'he'\u001b[0m with \u001b[32m'a man'\u001b[0m in \u001b[1m(\u001b[0m\u001b[32m'he'\u001b[0m, \u001b[32m'dark'\u001b[0m\u001b[1m)\u001b[0m                                          \n"
      ]
     },
     "metadata": {},
     "output_type": "display_data"
    },
    {
     "name": "stderr",
     "output_type": "stream",
     "text": [
      "INFO:netts:Replaced 'he' with 'a man' in ('he', 'dark')\n"
     ]
    },
    {
     "data": {
      "text/html": [
       "<pre style=\"white-space:pre;overflow-x:auto;line-height:normal;font-family:Menlo,'DejaVu Sans Mono',consolas,'Courier New',monospace\"><span style=\"color: #7fbfbf; text-decoration-color: #7fbfbf\">                    </span><span style=\"color: #000080; text-decoration-color: #000080\">INFO    </span> Replaced <span style=\"color: #008000; text-decoration-color: #008000\">'he'</span> with <span style=\"color: #008000; text-decoration-color: #008000\">'a man'</span> in <span style=\"font-weight: bold\">(</span><span style=\"color: #008000; text-decoration-color: #008000\">'he'</span>, <span style=\"color: #008000; text-decoration-color: #008000\">'post'</span><span style=\"font-weight: bold\">)</span>                                          \n",
       "</pre>\n"
      ],
      "text/plain": [
       "\u001b[2;36m                   \u001b[0m\u001b[2;36m \u001b[0m\u001b[34mINFO    \u001b[0m Replaced \u001b[32m'he'\u001b[0m with \u001b[32m'a man'\u001b[0m in \u001b[1m(\u001b[0m\u001b[32m'he'\u001b[0m, \u001b[32m'post'\u001b[0m\u001b[1m)\u001b[0m                                          \n"
      ]
     },
     "metadata": {},
     "output_type": "display_data"
    },
    {
     "name": "stderr",
     "output_type": "stream",
     "text": [
      "INFO:netts:Replaced 'he' with 'a man' in ('he', 'post')\n"
     ]
    },
    {
     "data": {
      "text/html": [
       "<pre style=\"white-space:pre;overflow-x:auto;line-height:normal;font-family:Menlo,'DejaVu Sans Mono',consolas,'Courier New',monospace\"><span style=\"color: #7fbfbf; text-decoration-color: #7fbfbf\">                    </span><span style=\"color: #000080; text-decoration-color: #000080\">INFO    </span> Replaced <span style=\"color: #008000; text-decoration-color: #008000\">'i'</span> with <span style=\"color: #008000; text-decoration-color: #008000\">'i'</span> in <span style=\"font-weight: bold\">(</span><span style=\"color: #008000; text-decoration-color: #008000\">'i'</span>, <span style=\"color: #008000; text-decoration-color: #008000\">'it'</span><span style=\"font-weight: bold\">)</span>                                                  \n",
       "</pre>\n"
      ],
      "text/plain": [
       "\u001b[2;36m                   \u001b[0m\u001b[2;36m \u001b[0m\u001b[34mINFO    \u001b[0m Replaced \u001b[32m'i'\u001b[0m with \u001b[32m'i'\u001b[0m in \u001b[1m(\u001b[0m\u001b[32m'i'\u001b[0m, \u001b[32m'it'\u001b[0m\u001b[1m)\u001b[0m                                                  \n"
      ]
     },
     "metadata": {},
     "output_type": "display_data"
    },
    {
     "name": "stderr",
     "output_type": "stream",
     "text": [
      "INFO:netts:Replaced 'i' with 'i' in ('i', 'it')\n"
     ]
    },
    {
     "data": {
      "text/html": [
       "<pre style=\"white-space:pre;overflow-x:auto;line-height:normal;font-family:Menlo,'DejaVu Sans Mono',consolas,'Courier New',monospace\"><span style=\"color: #7fbfbf; text-decoration-color: #7fbfbf\">                    </span><span style=\"color: #000080; text-decoration-color: #000080\">INFO    </span> Replaced <span style=\"color: #008000; text-decoration-color: #008000\">'i'</span> with <span style=\"color: #008000; text-decoration-color: #008000\">'i'</span> in <span style=\"font-weight: bold\">(</span><span style=\"color: #008000; text-decoration-color: #008000\">'i'</span>, <span style=\"color: #008000; text-decoration-color: #008000\">'it'</span><span style=\"font-weight: bold\">)</span>                                                  \n",
       "</pre>\n"
      ],
      "text/plain": [
       "\u001b[2;36m                   \u001b[0m\u001b[2;36m \u001b[0m\u001b[34mINFO    \u001b[0m Replaced \u001b[32m'i'\u001b[0m with \u001b[32m'i'\u001b[0m in \u001b[1m(\u001b[0m\u001b[32m'i'\u001b[0m, \u001b[32m'it'\u001b[0m\u001b[1m)\u001b[0m                                                  \n"
      ]
     },
     "metadata": {},
     "output_type": "display_data"
    },
    {
     "name": "stderr",
     "output_type": "stream",
     "text": [
      "INFO:netts:Replaced 'i' with 'i' in ('i', 'it')\n"
     ]
    },
    {
     "data": {
      "text/html": [
       "<pre style=\"white-space:pre;overflow-x:auto;line-height:normal;font-family:Menlo,'DejaVu Sans Mono',consolas,'Courier New',monospace\"><span style=\"color: #7fbfbf; text-decoration-color: #7fbfbf\">                    </span><span style=\"color: #000080; text-decoration-color: #000080\">INFO    </span> Replaced <span style=\"color: #008000; text-decoration-color: #008000\">'i'</span> with <span style=\"color: #008000; text-decoration-color: #008000\">'i'</span> in <span style=\"font-weight: bold\">(</span><span style=\"color: #008000; text-decoration-color: #008000\">'i'</span>, <span style=\"color: #008000; text-decoration-color: #008000\">'it'</span><span style=\"font-weight: bold\">)</span>                                                  \n",
       "</pre>\n"
      ],
      "text/plain": [
       "\u001b[2;36m                   \u001b[0m\u001b[2;36m \u001b[0m\u001b[34mINFO    \u001b[0m Replaced \u001b[32m'i'\u001b[0m with \u001b[32m'i'\u001b[0m in \u001b[1m(\u001b[0m\u001b[32m'i'\u001b[0m, \u001b[32m'it'\u001b[0m\u001b[1m)\u001b[0m                                                  \n"
      ]
     },
     "metadata": {},
     "output_type": "display_data"
    },
    {
     "name": "stderr",
     "output_type": "stream",
     "text": [
      "INFO:netts:Replaced 'i' with 'i' in ('i', 'it')\n"
     ]
    },
    {
     "data": {
      "text/html": [
       "<pre style=\"white-space:pre;overflow-x:auto;line-height:normal;font-family:Menlo,'DejaVu Sans Mono',consolas,'Courier New',monospace\"><span style=\"color: #7fbfbf; text-decoration-color: #7fbfbf\">                    </span><span style=\"color: #000080; text-decoration-color: #000080\">INFO    </span> Replaced <span style=\"color: #008000; text-decoration-color: #008000\">'it'</span> with <span style=\"color: #008000; text-decoration-color: #008000\">'the picture'</span> in <span style=\"font-weight: bold\">(</span><span style=\"color: #008000; text-decoration-color: #008000\">'i'</span>, <span style=\"color: #008000; text-decoration-color: #008000\">'it'</span><span style=\"font-weight: bold\">)</span>                                       \n",
       "</pre>\n"
      ],
      "text/plain": [
       "\u001b[2;36m                   \u001b[0m\u001b[2;36m \u001b[0m\u001b[34mINFO    \u001b[0m Replaced \u001b[32m'it'\u001b[0m with \u001b[32m'the picture'\u001b[0m in \u001b[1m(\u001b[0m\u001b[32m'i'\u001b[0m, \u001b[32m'it'\u001b[0m\u001b[1m)\u001b[0m                                       \n"
      ]
     },
     "metadata": {},
     "output_type": "display_data"
    },
    {
     "name": "stderr",
     "output_type": "stream",
     "text": [
      "INFO:netts:Replaced 'it' with 'the picture' in ('i', 'it')\n"
     ]
    },
    {
     "data": {
      "text/html": [
       "<pre style=\"white-space:pre;overflow-x:auto;line-height:normal;font-family:Menlo,'DejaVu Sans Mono',consolas,'Courier New',monospace\"><span style=\"color: #7fbfbf; text-decoration-color: #7fbfbf\">                    </span><span style=\"color: #000080; text-decoration-color: #000080\">INFO    </span> Replaced <span style=\"color: #008000; text-decoration-color: #008000\">'i'</span> with <span style=\"color: #008000; text-decoration-color: #008000\">'i'</span> in <span style=\"font-weight: bold\">(</span><span style=\"color: #008000; text-decoration-color: #008000\">'i'</span>, <span style=\"color: #008000; text-decoration-color: #008000\">'me'</span><span style=\"font-weight: bold\">)</span>                                                  \n",
       "</pre>\n"
      ],
      "text/plain": [
       "\u001b[2;36m                   \u001b[0m\u001b[2;36m \u001b[0m\u001b[34mINFO    \u001b[0m Replaced \u001b[32m'i'\u001b[0m with \u001b[32m'i'\u001b[0m in \u001b[1m(\u001b[0m\u001b[32m'i'\u001b[0m, \u001b[32m'me'\u001b[0m\u001b[1m)\u001b[0m                                                  \n"
      ]
     },
     "metadata": {},
     "output_type": "display_data"
    },
    {
     "name": "stderr",
     "output_type": "stream",
     "text": [
      "INFO:netts:Replaced 'i' with 'i' in ('i', 'me')\n"
     ]
    },
    {
     "data": {
      "text/html": [
       "<pre style=\"white-space:pre;overflow-x:auto;line-height:normal;font-family:Menlo,'DejaVu Sans Mono',consolas,'Courier New',monospace\"><span style=\"color: #7fbfbf; text-decoration-color: #7fbfbf\">                    </span><span style=\"color: #000080; text-decoration-color: #000080\">INFO    </span> Replaced <span style=\"color: #008000; text-decoration-color: #008000\">'i'</span> with <span style=\"color: #008000; text-decoration-color: #008000\">'i'</span> in <span style=\"font-weight: bold\">(</span><span style=\"color: #008000; text-decoration-color: #008000\">'i'</span>, <span style=\"color: #008000; text-decoration-color: #008000\">'me'</span><span style=\"font-weight: bold\">)</span>                                                  \n",
       "</pre>\n"
      ],
      "text/plain": [
       "\u001b[2;36m                   \u001b[0m\u001b[2;36m \u001b[0m\u001b[34mINFO    \u001b[0m Replaced \u001b[32m'i'\u001b[0m with \u001b[32m'i'\u001b[0m in \u001b[1m(\u001b[0m\u001b[32m'i'\u001b[0m, \u001b[32m'me'\u001b[0m\u001b[1m)\u001b[0m                                                  \n"
      ]
     },
     "metadata": {},
     "output_type": "display_data"
    },
    {
     "name": "stderr",
     "output_type": "stream",
     "text": [
      "INFO:netts:Replaced 'i' with 'i' in ('i', 'me')\n"
     ]
    },
    {
     "data": {
      "text/html": [
       "<pre style=\"white-space:pre;overflow-x:auto;line-height:normal;font-family:Menlo,'DejaVu Sans Mono',consolas,'Courier New',monospace\"><span style=\"color: #7fbfbf; text-decoration-color: #7fbfbf\">                    </span><span style=\"color: #000080; text-decoration-color: #000080\">INFO    </span> Replaced <span style=\"color: #008000; text-decoration-color: #008000\">'i'</span> with <span style=\"color: #008000; text-decoration-color: #008000\">'i'</span> in <span style=\"font-weight: bold\">(</span><span style=\"color: #008000; text-decoration-color: #008000\">'i'</span>, <span style=\"color: #008000; text-decoration-color: #008000\">'me'</span><span style=\"font-weight: bold\">)</span>                                                  \n",
       "</pre>\n"
      ],
      "text/plain": [
       "\u001b[2;36m                   \u001b[0m\u001b[2;36m \u001b[0m\u001b[34mINFO    \u001b[0m Replaced \u001b[32m'i'\u001b[0m with \u001b[32m'i'\u001b[0m in \u001b[1m(\u001b[0m\u001b[32m'i'\u001b[0m, \u001b[32m'me'\u001b[0m\u001b[1m)\u001b[0m                                                  \n"
      ]
     },
     "metadata": {},
     "output_type": "display_data"
    },
    {
     "name": "stderr",
     "output_type": "stream",
     "text": [
      "INFO:netts:Replaced 'i' with 'i' in ('i', 'me')\n"
     ]
    },
    {
     "data": {
      "text/html": [
       "<pre style=\"white-space:pre;overflow-x:auto;line-height:normal;font-family:Menlo,'DejaVu Sans Mono',consolas,'Courier New',monospace\"><span style=\"color: #7fbfbf; text-decoration-color: #7fbfbf\">                    </span><span style=\"color: #000080; text-decoration-color: #000080\">INFO    </span> Replaced <span style=\"color: #008000; text-decoration-color: #008000\">'me'</span> with <span style=\"color: #008000; text-decoration-color: #008000\">'i'</span> in <span style=\"font-weight: bold\">(</span><span style=\"color: #008000; text-decoration-color: #008000\">'i'</span>, <span style=\"color: #008000; text-decoration-color: #008000\">'me'</span><span style=\"font-weight: bold\">)</span>                                                 \n",
       "</pre>\n"
      ],
      "text/plain": [
       "\u001b[2;36m                   \u001b[0m\u001b[2;36m \u001b[0m\u001b[34mINFO    \u001b[0m Replaced \u001b[32m'me'\u001b[0m with \u001b[32m'i'\u001b[0m in \u001b[1m(\u001b[0m\u001b[32m'i'\u001b[0m, \u001b[32m'me'\u001b[0m\u001b[1m)\u001b[0m                                                 \n"
      ]
     },
     "metadata": {},
     "output_type": "display_data"
    },
    {
     "name": "stderr",
     "output_type": "stream",
     "text": [
      "INFO:netts:Replaced 'me' with 'i' in ('i', 'me')\n"
     ]
    },
    {
     "data": {
      "text/html": [
       "<pre style=\"white-space:pre;overflow-x:auto;line-height:normal;font-family:Menlo,'DejaVu Sans Mono',consolas,'Courier New',monospace\"><span style=\"color: #7fbfbf; text-decoration-color: #7fbfbf\">                    </span><span style=\"color: #000080; text-decoration-color: #000080\">INFO    </span> ++++ Merged nodes that are referenced several times. ++++                             \n",
       "</pre>\n"
      ],
      "text/plain": [
       "\u001b[2;36m                   \u001b[0m\u001b[2;36m \u001b[0m\u001b[34mINFO    \u001b[0m ++++ Merged nodes that are referenced several times. ++++                             \n"
      ]
     },
     "metadata": {},
     "output_type": "display_data"
    },
    {
     "name": "stderr",
     "output_type": "stream",
     "text": [
      "INFO:netts:++++ Merged nodes that are referenced several times. ++++\n"
     ]
    },
    {
     "data": {
      "text/html": [
       "<pre style=\"white-space:pre;overflow-x:auto;line-height:normal;font-family:Menlo,'DejaVu Sans Mono',consolas,'Courier New',monospace\"><span style=\"color: #7fbfbf; text-decoration-color: #7fbfbf\">                    </span><span style=\"color: #000080; text-decoration-color: #000080\">INFO    </span> ++++ Added adjective edges: <span style=\"color: #00ff00; text-decoration-color: #00ff00; font-style: italic\">True</span> ++++                                                 \n",
       "</pre>\n"
      ],
      "text/plain": [
       "\u001b[2;36m                   \u001b[0m\u001b[2;36m \u001b[0m\u001b[34mINFO    \u001b[0m ++++ Added adjective edges: \u001b[3;92mTrue\u001b[0m ++++                                                 \n"
      ]
     },
     "metadata": {},
     "output_type": "display_data"
    },
    {
     "name": "stderr",
     "output_type": "stream",
     "text": [
      "INFO:netts:++++ Added adjective edges: True ++++\n"
     ]
    },
    {
     "data": {
      "text/html": [
       "<pre style=\"white-space:pre;overflow-x:auto;line-height:normal;font-family:Menlo,'DejaVu Sans Mono',consolas,'Courier New',monospace\"><span style=\"color: #7fbfbf; text-decoration-color: #7fbfbf\">                    </span><span style=\"color: #000080; text-decoration-color: #000080\">INFO    </span> ++++ Added all preposition edges: <span style=\"color: #00ff00; text-decoration-color: #00ff00; font-style: italic\">True</span> ++++                                           \n",
       "</pre>\n"
      ],
      "text/plain": [
       "\u001b[2;36m                   \u001b[0m\u001b[2;36m \u001b[0m\u001b[34mINFO    \u001b[0m ++++ Added all preposition edges: \u001b[3;92mTrue\u001b[0m ++++                                           \n"
      ]
     },
     "metadata": {},
     "output_type": "display_data"
    },
    {
     "name": "stderr",
     "output_type": "stream",
     "text": [
      "INFO:netts:++++ Added all preposition edges: True ++++\n"
     ]
    },
    {
     "data": {
      "text/html": [
       "<pre style=\"white-space:pre;overflow-x:auto;line-height:normal;font-family:Menlo,'DejaVu Sans Mono',consolas,'Courier New',monospace\"><span style=\"color: #7fbfbf; text-decoration-color: #7fbfbf\">                    </span><span style=\"color: #000080; text-decoration-color: #000080\">INFO    </span> ++++ Obtained unconnected nodes ++++                                                  \n",
       "</pre>\n"
      ],
      "text/plain": [
       "\u001b[2;36m                   \u001b[0m\u001b[2;36m \u001b[0m\u001b[34mINFO    \u001b[0m ++++ Obtained unconnected nodes ++++                                                  \n"
      ]
     },
     "metadata": {},
     "output_type": "display_data"
    },
    {
     "name": "stderr",
     "output_type": "stream",
     "text": [
      "INFO:netts:++++ Obtained unconnected nodes ++++\n"
     ]
    },
    {
     "data": {
      "text/html": [
       "<pre style=\"white-space:pre;overflow-x:auto;line-height:normal;font-family:Menlo,'DejaVu Sans Mono',consolas,'Courier New',monospace\"><span style=\"color: #7fbfbf; text-decoration-color: #7fbfbf\">                    </span><span style=\"color: #000080; text-decoration-color: #000080\">INFO    </span> ++++ Cleaned nodes. ++++                                                              \n",
       "</pre>\n"
      ],
      "text/plain": [
       "\u001b[2;36m                   \u001b[0m\u001b[2;36m \u001b[0m\u001b[34mINFO    \u001b[0m ++++ Cleaned nodes. ++++                                                              \n"
      ]
     },
     "metadata": {},
     "output_type": "display_data"
    },
    {
     "name": "stderr",
     "output_type": "stream",
     "text": [
      "INFO:netts:++++ Cleaned nodes. ++++\n"
     ]
    },
    {
     "data": {
      "text/html": [
       "<pre style=\"white-space:pre;overflow-x:auto;line-height:normal;font-family:Menlo,'DejaVu Sans Mono',consolas,'Courier New',monospace\"><span style=\"color: #7fbfbf; text-decoration-color: #7fbfbf\">                    </span><span style=\"color: #000080; text-decoration-color: #000080\">INFO    </span> @@@@<span style=\"font-weight: bold\">{</span><span style=\"color: #008080; text-decoration-color: #008080; font-weight: bold\">0</span><span style=\"font-weight: bold\">}</span>                                                                               \n",
       "</pre>\n"
      ],
      "text/plain": [
       "\u001b[2;36m                   \u001b[0m\u001b[2;36m \u001b[0m\u001b[34mINFO    \u001b[0m @@@@\u001b[1m{\u001b[0m\u001b[1;36m0\u001b[0m\u001b[1m}\u001b[0m                                                                               \n"
      ]
     },
     "metadata": {},
     "output_type": "display_data"
    },
    {
     "name": "stderr",
     "output_type": "stream",
     "text": [
      "INFO:netts:@@@@{0}\n"
     ]
    },
    {
     "data": {
      "text/html": [
       "<pre style=\"white-space:pre;overflow-x:auto;line-height:normal;font-family:Menlo,'DejaVu Sans Mono',consolas,'Courier New',monospace\"><span style=\"color: #7fbfbf; text-decoration-color: #7fbfbf\">                    </span><span style=\"color: #000080; text-decoration-color: #000080\">INFO    </span> ++++ Cleaned parallel edges from duplicates. ++++                                     \n",
       "</pre>\n"
      ],
      "text/plain": [
       "\u001b[2;36m                   \u001b[0m\u001b[2;36m \u001b[0m\u001b[34mINFO    \u001b[0m ++++ Cleaned parallel edges from duplicates. ++++                                     \n"
      ]
     },
     "metadata": {},
     "output_type": "display_data"
    },
    {
     "name": "stderr",
     "output_type": "stream",
     "text": [
      "INFO:netts:++++ Cleaned parallel edges from duplicates. ++++\n",
      "[Thread-0] INFO CoreNLP - CoreNLP Server is shutting down.\n"
     ]
    }
   ],
   "source": [
    "import matplotlib.pyplot as plt\n",
    "import netts\n",
    "\n",
    "with netts.OpenIEClient() as openie_client, netts.CoreNLPClient(\n",
    "    properties={\"annotators\": \"tokenize,ssplit,pos,lemma,parse,depparse,coref,openie\", \"be_quiet\": \"true\"},\n",
    ") as corenlp_client:\n",
    "\n",
    "    with open(\"transcripts/transcript_1.txt\", encoding=\"utf-8\") as f:\n",
    "        transcript = f.read()\n",
    "\n",
    "    network = netts.SpeechGraph(transcript)\n",
    "\n",
    "    network.process(\n",
    "        openie_client=openie_client,\n",
    "        corenlp_client=corenlp_client,\n",
    "        preprocess_config=settings.netts_config.preprocess,\n",
    "    )"
   ]
  },
  {
   "attachments": {},
   "cell_type": "markdown",
   "metadata": {},
   "source": [
    "As you can see, netts produces a lot of output. At the command line, you will be able to choose if you want all the output printed, or if you would like netts to run quietly. By default, netts runs quietly and only prints the full output to the log file. If you would like to see the full netts output at the command line, for example to check that every steps runs correctly, you can use the command line option `--verbose`. To do that, you run: `netts --verbose transcript_1.txt output_folder`.\n",
    "\n",
    "We can save the constructed semantic speech network as a [pickle](https://docs.python.org/3/library/pickle.html) file for later analysis. Use the netts function `pickle_graph` for this."
   ]
  },
  {
   "cell_type": "code",
   "execution_count": 12,
   "metadata": {},
   "outputs": [],
   "source": [
    "# Save the graph object as a pickle file\n",
    "with open(\"output_folder/transcript.pickle\", \"wb\") as output_f:\n",
    "    netts.pickle_graph(network, output_f)\n"
   ]
  },
  {
   "attachments": {},
   "cell_type": "markdown",
   "metadata": {},
   "source": [
    "Pickle files are a way to save Python objects. You can later load the saved picke fle back into Python using the `networkx` function `read_gpickle`:"
   ]
  },
  {
   "cell_type": "code",
   "execution_count": 13,
   "metadata": {},
   "outputs": [],
   "source": [
    "import pickle\n",
    "with open(\"output_folder/transcript.pickle\", \"rb\") as graph_file:\n",
    "    network = pickle.load(graph_file)"
   ]
  },
  {
   "attachments": {},
   "cell_type": "markdown",
   "metadata": {},
   "source": [
    "## 3. Constructing several networks\n",
    "\n",
    "\n",
    "If you have a folder of transcripts you can process the entire folder with the CLI. For example, if you have a folder called `transcripts/`:\n",
    "\n",
    "```text\n",
    "transcripts/\n",
    "    input_folder/\n",
    "        transcript_2.txt\n",
    "        transcript_3.txt\n",
    "        transcript_4.txt\n",
    "        transcript_5.txt\n",
    "```\n",
    "\n",
    "You can process all of them by submitting the folder to netts with the Command Line:\n"
   ]
  },
  {
   "cell_type": "code",
   "execution_count": 3,
   "metadata": {},
   "outputs": [
    {
     "name": "stdout",
     "output_type": "stream",
     "text": [
      "[03/22/23 19:19:08] INFO     For logging information, please check              \n",
      "                             /Users/callithrix/Documents/Projects/Cambridge_Nett\n",
      "                             s/code/netts_demo/netts_log.log                    \n",
      "Starting CoreNLP Server...\n",
      "Processing Transcript(s)...\n"
     ]
    }
   ],
   "source": [
    "%%bash\n",
    "netts run transcripts/input_folder output_folder"
   ]
  },
  {
   "attachments": {},
   "cell_type": "markdown",
   "metadata": {},
   "source": [
    "## 4. How does netts work?\n",
    "Let's quickly walk through how netts works. This is more extensively covered in our [preprint](https://doi.org/10.1101/2022.02.25.22271517) and paper (in press at [Schizophrenia Bulletin](https://academic.oup.com/schizophreniabulletin)), but briefly reviewing the processing steps will help us understand the output. If you would like to directly move on to the analysis, feel free to skip this section and continue with the Jupyter notebook on [analysing netts networks](#3.-Plotting-a-semantic-speech-network).\n",
    "\n",
    "![Netts pipeline.](img/Pipeline_figure_reduced.png)\n",
    "\n",
    "\n",
    "## Preprocessing\n",
    "\n",
    "Netts first expands the most common English contractions (e.g. expanding <em>I'm</em> to <em>I am</em>).\n",
    "It then removes interjections (<em>Mh</em>, <em>Uhm</em>).\n",
    "Netts also removes any transcription notes (e.g. timestamps, <em>[inaudible]</em>) that were inserted by the transcriber.\n",
    "The user can pass a file of transcription notes that should be removed from the transcripts before processing.\n",
    "See [Configuration](https://alan-turing-institute.github.io/netts/configuration/) for a step-by-step guide on passing custom transcription notes to netts for removal.\n",
    "Netts does not remove stop words or punctuation to stay as close to the original speech as possible.\n",
    "\n",
    "Netts then uses [CoreNLP](https://stanfordnlp.github.io/CoreNLP/) to perform sentence splitting, tokenization, part of speech tagging, lemmatization, dependency parsing and co-referencing on the transcript.\n",
    "Netts uses the default language model implemented in CoreNLP.\n",
    "\n",
    "We describe these Natural Language Processing steps briefly in the following.\n",
    "The transcript is first split into sentences (sentence splitting).\n",
    "It is then further split into meaningful entities, usually words (tokenization).\n",
    "Each word is assigned a part of speech label.\n",
    "The part of speech label indicates whether the word is a verb, noun, or another part of speech (part of speech tagging).\n",
    "Each word is also assigned their dictionary form or lemma (lemmatization).\n",
    "Next, the grammatical relationship between words is identified (dependency parsing).\n",
    "Finally, any occurrences where two or more expressions in the transcript refer to the same entity are identified (co-referencing).\n",
    "For example where a noun <em>man</em> and a pronoun <em>he</em> refer to the same person.\n",
    "\n",
    "## Finding nodes and edges\n",
    "\n",
    "Netts submits each sentence to [OpenIE5](https://github.com/dair-iitd/OpenIE-standalone) for relation extraction.\n",
    "Openie5 extracts semantic relationships between entities from the sentence.\n",
    "For example, performing relation extraction on the sentence <em>I see a man</em> identifies the relation <em>see</em> between the entities <em>I</em> and <em>a man</em>.\n",
    "From these extracted relations, netts creates an initial list of the edges that will be present in the semantic speech network.\n",
    "In the edge list, the entities are the nodes and the relations are the edge labels.\n",
    "\n",
    "Next, netts uses the part of speech tags and dependency structure to extract edges defined by adjectives or prepositions:\n",
    "For instance, <em>a man on the picture</em> contains a preposition edge where the entity <em>a man</em> and <em>the picture</em> are linked by an edge labelled <em>on</em>.\n",
    "An example of an adjective edge would be <em>dark background</em>.\n",
    "Here, <em>dark</em> and <em>background</em> are linked by an implicit <em>is</em>.\n",
    "These adjective edges and preposition edges are added to the edge list.\n",
    "During the next processing steps this edge list is further refined.\n",
    "\n",
    "## Refining nodes and edges\n",
    "\n",
    "After creating the edge list, netts uses the co-referencing information to merge nodes that refer to the same entity.\n",
    "This is to take into account cases different words refer to the same entity.\n",
    "For example in the case where the pronoun <em>he</em> is used to refer to <em>a man</em> or in the case where the synonym <em>the guy</em> is used to refer to <em>a man</em>.\n",
    "Every entity mentioned in the text should be represented by a unique node in the semantic speech network.\n",
    "Therefore, nodes referring to the same entity are merged by replacing the node label in the edge list with the most representative node label (first mention of the entity that is a noun).\n",
    "In the example above, <em>he</em> and <em>the guy</em> would be replaced by <em>a man</em>.\n",
    "Node labels are then cleaned of superfluous words such as determiners.\n",
    "For example, <em>a man</em> would turn into <em>man</em>.\n",
    "\n",
    "## Constructing network\n",
    "\n",
    "In the final step, netts constructs a semantic speech network from the edge list using [networkx](https://networkx.org/).\n",
    "The network is then plotted and saves the output.\n",
    "The output consists of the networkx object, the network image and the log messages from netts.\n",
    "The resulting network (a [MultiDiGraph](https://networkx.org/documentation/stable/reference/classes/multidigraph.html)) is directed and unweighted, and can have parallel edges and self-loops.\n",
    "Parallel edges are two or more edges that link the same two nodes in the same direction.\n",
    "A self-loop is an edge that links a node with itself.\n",
    "\n",
    "\n",
    "Now that we understand how netts creates semantic speech networks, let's look at how we can analyze them. Head on over to the Jupyter notebook on [analysing netts networks](#3.-Plotting-a-semantic-speech-network)."
   ]
  }
 ],
 "metadata": {
  "kernelspec": {
   "display_name": "env",
   "language": "python",
   "name": "python3"
  },
  "language_info": {
   "codemirror_mode": {
    "name": "ipython",
    "version": 3
   },
   "file_extension": ".py",
   "mimetype": "text/x-python",
   "name": "python",
   "nbconvert_exporter": "python",
   "pygments_lexer": "ipython3",
   "version": "3.9.5"
  },
  "vscode": {
   "interpreter": {
    "hash": "35d3747f0854f31971a9d28d496f6739b221d778e4996bf301f5018ae56919a3"
   }
  }
 },
 "nbformat": 4,
 "nbformat_minor": 2
}
